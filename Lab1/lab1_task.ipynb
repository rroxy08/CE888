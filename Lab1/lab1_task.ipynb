{
  "nbformat": 4,
  "nbformat_minor": 0,
  "metadata": {
    "colab": {
      "name": "lab1_task.ipynb",
      "provenance": [],
      "collapsed_sections": [],
      "include_colab_link": true
    },
    "kernelspec": {
      "name": "python3",
      "display_name": "Python 3"
    }
  },
  "cells": [
    {
      "cell_type": "markdown",
      "metadata": {
        "id": "view-in-github",
        "colab_type": "text"
      },
      "source": [
        "<a href=\"https://colab.research.google.com/github/rroxy08/CE888/blob/master/Lab1/lab1_task.ipynb\" target=\"_parent\"><img src=\"https://colab.research.google.com/assets/colab-badge.svg\" alt=\"Open In Colab\"/></a>"
      ]
    },
    {
      "cell_type": "code",
      "metadata": {
        "id": "VQ0FAGhK5PQ4",
        "colab_type": "code",
        "outputId": "7c652d0b-12de-419c-aae7-15a1ad4846a9",
        "colab": {
          "base_uri": "https://localhost:8080/",
          "height": 153
        }
      },
      "source": [
        "#LAB1 \n",
        "#Task 1\n",
        "import numpy as np\n",
        "\n",
        "a = np.array([[0,1,],[10,11],[20,21],[30,31]])\n",
        "\n",
        "print(\"The array: \\n\",a)\n",
        "print(\"array shape: \",a.shape)\n",
        "print(\"array size: \",a.size)\n",
        "print(\"array dimensions: \",a.ndim)\n",
        "\n"
      ],
      "execution_count": 0,
      "outputs": [
        {
          "output_type": "stream",
          "text": [
            "The array: \n",
            " [[ 0  1]\n",
            " [10 11]\n",
            " [20 21]\n",
            " [30 31]]\n",
            "array shape:  (4, 2)\n",
            "array size:  8\n",
            "array dimensions:  2\n"
          ],
          "name": "stdout"
        }
      ]
    },
    {
      "cell_type": "code",
      "metadata": {
        "id": "LAUQjWmx7auA",
        "colab_type": "code",
        "outputId": "6333a3dd-9946-4b34-d95c-b2c90d0af781",
        "colab": {
          "base_uri": "https://localhost:8080/",
          "height": 68
        }
      },
      "source": [
        "#Task 2  \n",
        "#Create an array of dimension (1,10) and sort it in ascending and descending order\n",
        "\n",
        "b = np.array([0,1,2,3,4,5,6,7,8,9])\n",
        "\n",
        "print(\"The array:\",b)\n",
        "\n",
        "print(\"The array in Ascending order:\",b[0::])\n",
        "print(\"The array in Descending order:\",b[::-1])"
      ],
      "execution_count": 0,
      "outputs": [
        {
          "output_type": "stream",
          "text": [
            "The array: [0 1 2 3 4 5 6 7 8 9]\n",
            "The array in Ascending order: [0 1 2 3 4 5 6 7 8 9]\n",
            "The array in Descending order: [9 8 7 6 5 4 3 2 1 0]\n"
          ],
          "name": "stdout"
        }
      ]
    },
    {
      "cell_type": "code",
      "metadata": {
        "id": "_MI84JCi-j5V",
        "colab_type": "code",
        "outputId": "c72c3777-0ec6-4bd3-b9f3-91a8801c5709",
        "colab": {
          "base_uri": "https://localhost:8080/",
          "height": 51
        }
      },
      "source": [
        "#Convert an 1D array [1 2 3 4 5 6 7 8 9] to 2D array [[1 2 3], [4 5 6], [7 8 9]]\n",
        "\n",
        "a = np.array([1,2,3,4,5,6,7,8,9])\n",
        "k=0\n",
        "b=[]\n",
        "for i in range(3):\n",
        "  temp=[]\n",
        "  for j in range(3):\n",
        "    temp.append(a[k])\n",
        "    k+=1\n",
        "  b.append(temp)\n",
        "    \n",
        "print(\"1D array: \",a)\n",
        "print(\"2D array: \",b)\n"
      ],
      "execution_count": 0,
      "outputs": [
        {
          "output_type": "stream",
          "text": [
            "1D array:  [1 2 3 4 5 6 7 8 9]\n",
            "2D array:  [[1, 2, 3], [4, 5, 6], [7, 8, 9]]\n"
          ],
          "name": "stdout"
        }
      ]
    },
    {
      "cell_type": "code",
      "metadata": {
        "id": "0sWKgCKFAacZ",
        "colab_type": "code",
        "colab": {}
      },
      "source": [
        "#Stack two arrays of any size horizontally and vertically\n",
        "a=np.array([0,1,2,3,4,5])\n",
        "b=np.array([4,5,6,7])\n",
        "\n",
        "for item in a:\n",
        "  c.append(item)\n",
        "print(c)\n"
      ],
      "execution_count": 0,
      "outputs": []
    },
    {
      "cell_type": "code",
      "metadata": {
        "id": "OAoeXTLOC2dB",
        "colab_type": "code",
        "outputId": "f2d9208b-6063-49c8-cb8d-e3e99807f22b",
        "colab": {
          "base_uri": "https://localhost:8080/",
          "height": 34
        }
      },
      "source": [
        "#Create two array of same size and find commom elements\n",
        "\n",
        "a=np.array([0,1,2,3,4])\n",
        "b=np.array([1,6,7,3,0])\n",
        "common_array=[]\n",
        "\n",
        "for item in a:\n",
        "  if item in b:\n",
        "    common_array.append(item)\n",
        "\n",
        "print(\"Common elements are: \",common_array)\n",
        "\n",
        "\n"
      ],
      "execution_count": 0,
      "outputs": [
        {
          "output_type": "stream",
          "text": [
            "Common elements are:  [0, 1, 3]\n"
          ],
          "name": "stdout"
        }
      ]
    },
    {
      "cell_type": "code",
      "metadata": {
        "id": "NsyRkvhJD_8n",
        "colab_type": "code",
        "outputId": "01ad4119-f7c4-40d8-cc7b-15bf77ec2d6d",
        "colab": {
          "base_uri": "https://localhost:8080/",
          "height": 289
        }
      },
      "source": [
        "#Create a 2D array of 5 by 5 and find the min and max values from each row and each column\n",
        "\n",
        "a=np.array([[1,2,3,4,5],[11,12,13,14,15],[21,22,23,24,25],[31,32,33,34,35],[41,42,43,44,45]])\n",
        "\n",
        "print(\"The row: \\n\",a)\n",
        "# min and max values from each row \n",
        "k=1\n",
        "for row in a:\n",
        "  for j in range(len(row)):\n",
        "    min=row[0]\n",
        "    max=row[0]\n",
        "    if row[j]<min:\n",
        "      min=row[j]\n",
        "    if row[j]>max:\n",
        "      max=row[j] \n",
        "  print(\"Minimum and Maximum value of row \"+str(k)+\" are :\",min,max)\n",
        "  k+=1\n",
        "# min and max values from each column\n",
        "j=0\n",
        "k=1\n",
        "while True:\n",
        "  if(j==5):\n",
        "    break\n",
        "  for i in range(len(a)):\n",
        "      min=a[0][j]\n",
        "      max=a[0][j]\n",
        "\n",
        "      if a[i][j]<min:\n",
        "        min=a[i][j]\n",
        "      if a[i][j]>max:\n",
        "        max=a[i][j]\n",
        "  j+=1\n",
        "  \n",
        "  print(\"Minimum and Maximum value of column \"+str(k)+\" are :\",min,max)\n",
        "  k+=1\n",
        " "
      ],
      "execution_count": 0,
      "outputs": [
        {
          "output_type": "stream",
          "text": [
            "The row: \n",
            " [[ 1  2  3  4  5]\n",
            " [11 12 13 14 15]\n",
            " [21 22 23 24 25]\n",
            " [31 32 33 34 35]\n",
            " [41 42 43 44 45]]\n",
            "Minimum and Maximum value of row 1 are : 1 5\n",
            "Minimum and Maximum value of row 2 are : 11 15\n",
            "Minimum and Maximum value of row 3 are : 21 25\n",
            "Minimum and Maximum value of row 4 are : 31 35\n",
            "Minimum and Maximum value of row 5 are : 41 45\n",
            "Minimum and Maximum value of column 1 are : 1 41\n",
            "Minimum and Maximum value of column 2 are : 2 42\n",
            "Minimum and Maximum value of column 3 are : 3 43\n",
            "Minimum and Maximum value of column 4 are : 4 44\n",
            "Minimum and Maximum value of column 5 are : 5 45\n"
          ],
          "name": "stdout"
        }
      ]
    },
    {
      "cell_type": "code",
      "metadata": {
        "id": "Scz4ZcyCJP7U",
        "colab_type": "code",
        "outputId": "65bb25db-b7e0-465d-c95c-17dca6803217",
        "colab": {
          "base_uri": "https://localhost:8080/",
          "height": 153
        }
      },
      "source": [
        "#Create an array of size 100 and compute the mean, median, standard deviation.\n",
        "\n",
        "#array assignment with random value\n",
        "a = [100]\n",
        "for i in range(102):\n",
        "  a= np.random.randint(100,size=100)\n",
        "\n",
        "\n",
        "print(\"The array:\",a)\n",
        "print(\"Mean value: \",np.mean(a))\n",
        "print(\"Median value: \",np.median(a))\n",
        "print(\"Standard deviation value: \",np.std(a))\n"
      ],
      "execution_count": 0,
      "outputs": [
        {
          "output_type": "stream",
          "text": [
            "The array: [87 47 55 10 35 58 86 52 17 86 19 83  6 71 98 54  8 26 13 72 29 20 98 83\n",
            " 65 25 73 41 57 22 57 90  1 35 84 60 14 87 11 28 75 55 35 63 74  0 19 54\n",
            " 12 11  3 43 60 78 58 15 68 88  5 79  5 43 42 39 75 59 41 10 76 97 61 68\n",
            " 45 79 22 43 32 92 61 97  5 62 76 99 53 20 68 85 34 22 47 93  5  3 42 57\n",
            " 68 17 48 56]\n",
            "Mean value:  49.05\n",
            "Median value:  53.5\n",
            "Standard deviation value:  28.753564996361757\n"
          ],
          "name": "stdout"
        }
      ]
    },
    {
      "cell_type": "code",
      "metadata": {
        "id": "tBcUX9P1LpzJ",
        "colab_type": "code",
        "outputId": "df26ae2c-4f54-4322-9795-1f7e6a0a692d",
        "colab": {
          "base_uri": "https://localhost:8080/",
          "height": 136
        }
      },
      "source": [
        "#Normalize a 5x5 random matrix\n",
        "\n",
        "a=np.array([[1,2,3,4,5],[11,12,13,14,15],[21,22,23,24,25],[31,32,33,34,35],[41,42,43,44,45]])\n",
        "\n",
        "print(\"The row: \\n\",a)\n",
        "# min and max values from each row \n",
        "normalize_a=[]*len(a)\n",
        "for row in a:\n",
        "  t=[]\n",
        "  for j in range(len(row)):\n",
        "    min=row[0]\n",
        "    max=row[0]\n",
        "    if row[j]<min:\n",
        "      min=row[j]\n",
        "    if row[j]>max:\n",
        "      max=row[j] \n",
        "  for j in range(len(row)):\n",
        "    norm_val= (row[j] - min)/ (max-min)\n",
        "    t.append(norm_val)\n",
        "  normalize_a.append(t)\n",
        "\n",
        "print(\"Normalized array: \",normalize_a)\n",
        "  "
      ],
      "execution_count": 0,
      "outputs": [
        {
          "output_type": "stream",
          "text": [
            "The row: \n",
            " [[ 1  2  3  4  5]\n",
            " [11 12 13 14 15]\n",
            " [21 22 23 24 25]\n",
            " [31 32 33 34 35]\n",
            " [41 42 43 44 45]]\n",
            "Normalized array:  [[0.0, 0.25, 0.5, 0.75, 1.0], [0.0, 0.25, 0.5, 0.75, 1.0], [0.0, 0.25, 0.5, 0.75, 1.0], [0.0, 0.25, 0.5, 0.75, 1.0], [0.0, 0.25, 0.5, 0.75, 1.0]]\n"
          ],
          "name": "stdout"
        }
      ]
    },
    {
      "cell_type": "code",
      "metadata": {
        "id": "AwYFRQHlQYhh",
        "colab_type": "code",
        "outputId": "c1fc2291-14c7-472a-b65f-cf54466cf138",
        "colab": {
          "base_uri": "https://localhost:8080/",
          "height": 299
        }
      },
      "source": [
        "#Consider an array of dimension (4,4,3), how to mulitply it by an array with dimensions (4,4)?\n",
        "\n",
        "a=np.array([[[1,1,1],[2,2,2],[3,3,3],[4,4,4]],[[5,5,5],[6,6,6],[7,7,7],[8,8,8]],[[9,9,9],[11,11,11],[12,12,12],[3,3,3]],[[20,20,20],[10,10,10],[30,30,30],[40,40,40]]])\n",
        "b=np.array([[1,1,1,1],[2,2,2,2],[3,3,3,3],[4,4,4,4]])\n",
        "\n",
        "c=[]\n",
        "print(a.shape[0])\n",
        "for i in range(len(a)):\n",
        "  t=[]\n",
        "  k=0\n",
        "  for j in range(len(a[0])):\n",
        "    print(a[i][j][k])\n",
        "    #val=a[i][j][k] * b[i][j]\n",
        "    k+=1\n",
        "    t.append(val)\n",
        "  c.append(t)\n",
        "print(c)"
      ],
      "execution_count": 0,
      "outputs": [
        {
          "output_type": "stream",
          "text": [
            "4\n",
            "1\n",
            "2\n",
            "3\n"
          ],
          "name": "stdout"
        },
        {
          "output_type": "error",
          "ename": "IndexError",
          "evalue": "ignored",
          "traceback": [
            "\u001b[0;31m---------------------------------------------------------------------------\u001b[0m",
            "\u001b[0;31mIndexError\u001b[0m                                Traceback (most recent call last)",
            "\u001b[0;32m<ipython-input-96-9a8619e6eacc>\u001b[0m in \u001b[0;36m<module>\u001b[0;34m()\u001b[0m\n\u001b[1;32m      9\u001b[0m   \u001b[0mk\u001b[0m\u001b[0;34m=\u001b[0m\u001b[0;36m0\u001b[0m\u001b[0;34m\u001b[0m\u001b[0;34m\u001b[0m\u001b[0m\n\u001b[1;32m     10\u001b[0m   \u001b[0;32mfor\u001b[0m \u001b[0mj\u001b[0m \u001b[0;32min\u001b[0m \u001b[0mrange\u001b[0m\u001b[0;34m(\u001b[0m\u001b[0mlen\u001b[0m\u001b[0;34m(\u001b[0m\u001b[0ma\u001b[0m\u001b[0;34m[\u001b[0m\u001b[0;36m0\u001b[0m\u001b[0;34m]\u001b[0m\u001b[0;34m)\u001b[0m\u001b[0;34m)\u001b[0m\u001b[0;34m:\u001b[0m\u001b[0;34m\u001b[0m\u001b[0;34m\u001b[0m\u001b[0m\n\u001b[0;32m---> 11\u001b[0;31m     \u001b[0mprint\u001b[0m\u001b[0;34m(\u001b[0m\u001b[0ma\u001b[0m\u001b[0;34m[\u001b[0m\u001b[0mi\u001b[0m\u001b[0;34m]\u001b[0m\u001b[0;34m[\u001b[0m\u001b[0mj\u001b[0m\u001b[0;34m]\u001b[0m\u001b[0;34m[\u001b[0m\u001b[0mk\u001b[0m\u001b[0;34m]\u001b[0m\u001b[0;34m)\u001b[0m\u001b[0;34m\u001b[0m\u001b[0;34m\u001b[0m\u001b[0m\n\u001b[0m\u001b[1;32m     12\u001b[0m     \u001b[0;31m#val=a[i][j][k] * b[i][j]\u001b[0m\u001b[0;34m\u001b[0m\u001b[0;34m\u001b[0m\u001b[0;34m\u001b[0m\u001b[0m\n\u001b[1;32m     13\u001b[0m     \u001b[0mk\u001b[0m\u001b[0;34m+=\u001b[0m\u001b[0;36m1\u001b[0m\u001b[0;34m\u001b[0m\u001b[0;34m\u001b[0m\u001b[0m\n",
            "\u001b[0;31mIndexError\u001b[0m: index 3 is out of bounds for axis 0 with size 3"
          ]
        }
      ]
    }
  ]
}