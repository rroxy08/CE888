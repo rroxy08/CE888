{
  "nbformat": 4,
  "nbformat_minor": 0,
  "metadata": {
    "kernelspec": {
      "display_name": "Python 3",
      "language": "python",
      "name": "python3"
    },
    "language_info": {
      "codemirror_mode": {
        "name": "ipython",
        "version": 2
      },
      "file_extension": ".py",
      "mimetype": "text/x-python",
      "name": "python",
      "nbconvert_exporter": "python",
      "pygments_lexer": "ipython2",
      "version": "2.7.6"
    },
    "pycharm": {
      "stem_cell": {
        "cell_type": "raw",
        "source": [],
        "metadata": {
          "collapsed": false
        }
      }
    },
    "colab": {
      "name": "Lab2bootstrap.ipynb",
      "provenance": [],
      "collapsed_sections": [],
      "include_colab_link": true
    }
  },
  "cells": [
    {
      "cell_type": "markdown",
      "metadata": {
        "id": "view-in-github",
        "colab_type": "text"
      },
      "source": [
        "<a href=\"https://colab.research.google.com/github/rroxy08/CE888/blob/master/Lab2/Lab2bootstrap.ipynb\" target=\"_parent\"><img src=\"https://colab.research.google.com/assets/colab-badge.svg\" alt=\"Open In Colab\"/></a>"
      ]
    },
    {
      "cell_type": "markdown",
      "metadata": {
        "id": "nCi_99yMYIb1",
        "colab_type": "text"
      },
      "source": [
        "In this notebook you'll create your own bootstrap function following the bootstrap algorithm (check the lecture notes!)"
      ]
    },
    {
      "cell_type": "code",
      "metadata": {
        "pycharm": {
          "name": "#%%# Imports\n"
        },
        "id": "LY5zujI2YC37",
        "colab_type": "code",
        "colab": {}
      },
      "source": [
        "import matplotlib\n",
        "import matplotlib.pyplot as plt\n",
        "import pandas as pd\n",
        "import seaborn as sns\n",
        "import numpy as np\n",
        "\n"
      ],
      "execution_count": 0,
      "outputs": []
    },
    {
      "cell_type": "code",
      "metadata": {
        "id": "Eqkwj4SMY38t",
        "colab_type": "code",
        "outputId": "463c8b77-4338-4b3e-a8c3-0e1d733f932a",
        "colab": {
          "base_uri": "https://localhost:8080/",
          "height": 34
        }
      },
      "source": [
        "# Load the data\n",
        "df = pd.read_csv('https://raw.githubusercontent.com/albanda/CE888/master/lab2%20-%20bootstrap/customers.csv')\n",
        "data = df.values.T[1]\n",
        "print(data)"
      ],
      "execution_count": 13,
      "outputs": [
        {
          "output_type": "stream",
          "text": [
            "[ 2.  8. 20. 13.  5.  9. 10.  8. 22. 10.  2.  4.  7.  9.]\n"
          ],
          "name": "stdout"
        }
      ]
    },
    {
      "cell_type": "code",
      "metadata": {
        "pycharm": {
          "name": "#%%\n"
        },
        "id": "Gxvc_bScYC4H",
        "colab_type": "code",
        "colab": {}
      },
      "source": [
        "# Checking the notes from the lecture, create here your own bootstrap function:\n",
        "# 1. Create an array of samples of shape (n_iterations, sample_size)\n",
        "# 2. Calculate and save the mean of the array (this is \"data_mean\" that is returned by the function)\n",
        "# 3. In each iteration:\n",
        "# 3.1 Get the data corresponding to that iteration (new_samples[iteration, :])\n",
        "# 3.2 Calculate the mean of the iteration data and store it\n",
        "# (At this point you should have an array of n_iterations values)\n",
        "# 4. Calculate the lower and upper bounds for a 95% CI (hint: check the percentile function on Numpy)\n",
        "# 5. Return data_mean, and the lower and upper bounds of your interval\n",
        "#def boostrap_mean(sample, sample_size, n_iterations):\n",
        "\t#return data_mean, lower, upper\n",
        "\n",
        "def boostrap_mean(sample, sample_size, n_iterations):\n",
        "\tstd_array=[]\n",
        "\n",
        "\tdata_mean=np.mean(sample)\n",
        "\tstd_array.append(data_mean)\n",
        " \n",
        "\tboot_mean_array=[]\n",
        "\tfor i in range(0,n_iterations):\n",
        "\t\tsample_mean=[]\n",
        "\t\tfor j in range(sample_size):\n",
        "\t\t\tindex=np.random.randint(sample_size)\n",
        "\t\t\tsample_mean.append(sample[index])\n",
        "\t\tmean_val=np.mean(sample_mean)\n",
        "\t\tboot_mean_array.append(mean_val)\n",
        "\t\n",
        "\tboot_mean_array=np.sort(boot_mean_array)       # 95% confidence intervals\n",
        "\tlower =np.percentile(boot_mean_array,2.5)\n",
        "\tupper=np.percentile(boot_mean_array,97.5)\n",
        "\tstd_array.append(lower)\n",
        "\tstd_array.append(upper)\n",
        "\t\n",
        "\treturn std_array"
      ],
      "execution_count": 0,
      "outputs": []
    },
    {
      "cell_type": "code",
      "metadata": {
        "pycharm": {
          "name": "#%%\n"
        },
        "id": "AN7sEOcMYC4P",
        "colab_type": "code",
        "outputId": "9f0b317f-273a-473b-e5a8-c2c054b3895c",
        "colab": {
          "base_uri": "https://localhost:8080/",
          "height": 386
        }
      },
      "source": [
        "# Call your bootstrap function and plot the results\n",
        "\n",
        "boots = []\n",
        "for i in range(100, 100000, 1000):\n",
        "    boot = boostrap_mean(data, data.shape[0], i)\n",
        "    boots.append([i, boot[0], \"mean\"])\n",
        "    boots.append([i, boot[1], \"lower\"])\n",
        "    boots.append([i, boot[2], \"upper\"])\n",
        "\n",
        "df_boot = pd.DataFrame(boots, columns=['Boostrap Iterations', 'Mean', \"Value\"])\n",
        "sns_plot = sns.lmplot(df_boot.columns[0], df_boot.columns[1], data=df_boot, fit_reg=False, hue=\"Value\")\n",
        "\n",
        "sns_plot.axes[0, 0].set_ylim(0,)\n",
        "sns_plot.axes[0, 0].set_xlim(0, 100000)\n",
        "\n",
        "\n",
        "\n"
      ],
      "execution_count": 0,
      "outputs": [
        {
          "output_type": "execute_result",
          "data": {
            "text/plain": [
              "(0, 100000)"
            ]
          },
          "metadata": {
            "tags": []
          },
          "execution_count": 9
        },
        {
          "output_type": "display_data",
          "data": {
            "image/png": "[encoded data removed]",
            "text/plain": [
              "<Figure size 425.125x360 with 1 Axes>"
            ]
          },
          "metadata": {
            "tags": []
          }
        }
      ]
    },
    {
      "cell_type": "markdown",
      "metadata": {
        "collapsed": false,
        "id": "MjtP4e2_YC4V",
        "colab_type": "text"
      },
      "source": [
        "\n",
        "Now, modify the bootstrap function so that you can pass your desired confidence interval as a parameter.\n",
        "\n"
      ]
    },
    {
      "cell_type": "code",
      "metadata": {
        "id": "3K9j0FuGYhHs",
        "colab_type": "code",
        "colab": {}
      },
      "source": [
        "def boostrap_mean_ci(sample, sample_size, iterations, ci):\n",
        "\t# <---INSERT YOUR CODE HERE--->\n",
        "\tstd_array=[]\n",
        "\n",
        "\tdata_mean=np.mean(sample)\n",
        "\tstd_array.append(data_mean)\n",
        " \n",
        "\tboot_mean_array=[]\n",
        "\tfor i in range(0,iterations):\n",
        "\t\tsample_mean=[]\n",
        "\t\tfor j in range(sample_size):\n",
        "\t\t\tindex=np.random.randint(sample_size)\n",
        "\t\t\tsample_mean.append(sample[index])\n",
        "\t\tmean_val=np.mean(sample_mean)\n",
        "\t\tboot_mean_array.append(mean_val)\n",
        "\t\n",
        "\tboot_mean_array=np.sort(boot_mean_array)       # 95% confidence intervals\n",
        "\n",
        "\tlow_ci=(100-ci)/2\n",
        "\tup_ci=ci+low_ci\n",
        "\n",
        "\n",
        "\tlower =np.percentile(boot_mean_array,low_ci)\n",
        "\tupper=np.percentile(boot_mean_array,up_ci)\n",
        "\tstd_array.append(lower)\n",
        "\tstd_array.append(upper)\n",
        " \n",
        "\treturn std_array"
      ],
      "execution_count": 0,
      "outputs": []
    },
    {
      "cell_type": "code",
      "metadata": {
        "id": "uDnjq08GYl-C",
        "colab_type": "code",
        "outputId": "0c6f8830-440b-4e7e-e443-3a9cb394d0c5",
        "colab": {
          "base_uri": "https://localhost:8080/",
          "height": 366
        }
      },
      "source": [
        "\n",
        "boots = []\n",
        "for i in range(100, 100000, 1000):\n",
        "    boot = boostrap_mean_ci(data, data.shape[0], i, 80)\n",
        "    boots.append([i, boot[0], \"mean\"])\n",
        "    boots.append([i, boot[1], \"lower\"])\n",
        "    boots.append([i, boot[2], \"upper\"])\n",
        "\n",
        "df_boot = pd.DataFrame(boots, columns=['Boostrap Iterations', 'Mean', \"Value\"])\n",
        "sns_plot = sns.lmplot(df_boot.columns[0], df_boot.columns[1], data=df_boot, fit_reg=False, hue=\"Value\")\n",
        "\n",
        "sns_plot.axes[0, 0].set_ylim(0,)\n",
        "sns_plot.axes[0, 0].set_xlim(0, 100000)\n",
        "\n",
        "sns_plot.savefig(\"bootstrap_confidence_80.png\", bbox_inches='tight')\n",
        "sns_plot.savefig(\"bootstrap_confidence_80.pdf\", bbox_inches='tight')\n"
      ],
      "execution_count": 0,
      "outputs": [
        {
          "output_type": "display_data",
          "data": {
            "image/png": "[encoded data removed]",
            "text/plain": [
              "<Figure size 425.125x360 with 1 Axes>"
            ]
          },
          "metadata": {
            "tags": []
          }
        }
      ]
    },
    {
      "cell_type": "markdown",
      "metadata": {
        "id": "qjNgXW6wdd7r",
        "colab_type": "text"
      },
      "source": [
        "# Vehicles dataset\n",
        "\n",
        "Now let's work on a different dataset. Load the vehicles.csv file and check the Moodle page for instructions on how to proceed\n"
      ]
    },
    {
      "cell_type": "code",
      "metadata": {
        "id": "avWv4ipFdpka",
        "colab_type": "code",
        "outputId": "475c791b-762c-4c64-a6a6-5f929298dbff",
        "colab": {
          "base_uri": "https://localhost:8080/",
          "height": 731
        }
      },
      "source": [
        "# Load and visualise the vehicles dataset\n",
        "# <---INSERT YOUR CODE HERE--->\n",
        "df_v = pd.read_csv('https://raw.githubusercontent.com/albanda/CE888/master/lab2%20-%20bootstrap/vehicles.csv')\n",
        "df_v=df_v.fillna(value=np.mean(df_v))\n",
        "\n",
        "c_fleet = df_v.values.T[0]\n",
        "n_fleet=df_v.values.T[1]\n",
        "y1=[]\n",
        "y2=[]\n",
        "\n",
        "bins = np.linspace(0, np.max(n_fleet),10)\n",
        "\n",
        "plt.figure(figsize= (10,6))\n",
        "plt.hist(c_fleet, bins, alpha=0.5, label='Current Fleet')\n",
        "plt.hist(n_fleet, bins, alpha=0.5, label='New Fleet')\n",
        "plt.legend(loc='upper right')\n",
        "plt.show()\n",
        "\n",
        "a=np.size(c_fleet)\n",
        "b=np.size(n_fleet)\n",
        "for i in range(a):\n",
        "  y1.append(i)\n",
        "a=np.size(c_fleet)\n",
        "for i in range(b):\n",
        "  y2.append(i)\n",
        "plt.figure(figsize= (10,6))\n",
        "\n",
        "plt.scatter(c_fleet,y1,c='blue')\n",
        "plt.scatter(n_fleet,y2,c='red')\n",
        "#plt.hist(n_fleet, bins, alpha=0.5, label='New Fleet')\n",
        "#plt.legend(loc='upper right')\n",
        "plt.show()\n",
        "\n",
        "# Note: you can add more cells as needed to organise your code and your plots\n"
      ],
      "execution_count": 16,
      "outputs": [
        {
          "output_type": "display_data",
          "data": {
            "image/png": "[encoded data removed]",
            "text/plain": [
              "<Figure size 720x432 with 1 Axes>"
            ]
          },
          "metadata": {
            "tags": []
          }
        },
        {
          "output_type": "display_data",
          "data": {
            "image/png": "[encoded data removed]",
            "text/plain": [
              "<Figure size 720x432 with 1 Axes>"
            ]
          },
          "metadata": {
            "tags": []
          }
        }
      ]
    },
    {
      "cell_type": "code",
      "metadata": {
        "id": "BAKyj983dwSM",
        "colab_type": "code",
        "outputId": "6cc11abd-11e1-4cde-b5b2-040baed7edf4",
        "colab": {
          "base_uri": "https://localhost:8080/",
          "height": 721
        }
      },
      "source": [
        "# Compare the two fleets.\n",
        "\n",
        "boots_c = []\n",
        "boots_n = []\n",
        "diff_array=[]\n",
        "cfleet_lower_diff=[]\n",
        "cfleet_upper_diff=[]\n",
        "nfleet_lower_diff=[]\n",
        "nfleet_upper_diff=[]\n",
        "\n",
        "cfleet_mean=np.mean(c_fleet)\n",
        "nfleet_mean=np.mean(n_fleet)\n",
        "mean_obs=np.abs(cfleet_mean-nfleet_mean)\n",
        "\n",
        "for i in range(100,100000,1000):\n",
        "    boot =boostrap_mean(c_fleet,a,i)\n",
        "    #boot = boostrap_mean_ci(c_fleet,a, i, 95)       #a= size of the array c_fleet\n",
        "    boots_c.append([i, boot[0], \"mean\"])\n",
        "    boots_c.append([i, boot[1], \"lower\"])\n",
        "    boots_c.append([i, boot[2], \"upper\"])\n",
        "\n",
        "    boot1 =boostrap_mean(n_fleet,b,i)\n",
        "    #boot1 = boostrap_mean_ci(n_fleet,b, i, 95)       #b= size of the array n_fleet\n",
        "    boots_n.append([i, boot1[0], \"mean\"])\n",
        "    boots_n.append([i, boot1[1], \"lower\"])\n",
        "    boots_n.append([i, boot1[2], \"upper\"])\n",
        "\n",
        "\n",
        "df_boot = pd.DataFrame(boots_c, columns=['Boostrap Iterations', 'Mean', \"Value\"])\n",
        "sns_plot = sns.lmplot(df_boot.columns[0], df_boot.columns[1], data=df_boot, fit_reg=False, hue=\"Value\")\n",
        "\n",
        "sns_plot.axes[0, 0].set_ylim(0,)\n",
        "sns_plot.axes[0, 0].set_xlim(0, 100000)\n",
        "sns_plot.set_titles(\"Current fleet\")\n",
        "\n",
        "sns_plot.savefig(\"bootstrap_confidence_95.png\", bbox_inches='tight')\n",
        "sns_plot.savefig(\"bootstrap_confidence_95.pdf\", bbox_inches='tight')\n",
        "\n",
        "df_boot = pd.DataFrame(boots_n, columns=['Boostrap Iterations', 'Mean', \"Value\"])\n",
        "sns_plot = sns.lmplot(df_boot.columns[0], df_boot.columns[1], data=df_boot, fit_reg=False, hue=\"Value\")\n",
        "\n",
        "sns_plot.axes[0, 0].set_ylim(0,)\n",
        "sns_plot.axes[0, 0].set_xlim(0, 100000)\n",
        "sns_plot.set_titles(\"New fleet\")\n",
        "sns_plot.savefig(\"bootstrap_confidence_95.png\", bbox_inches='tight')\n",
        "sns_plot.savefig(\"bootstrap_confidence_95.pdf\", bbox_inches='tight')\n",
        "\n",
        "# You can create a permutation test function to do this. Check the lecture notes!"
      ],
      "execution_count": 35,
      "outputs": [
        {
          "output_type": "display_data",
          "data": {
            "image/png": "[encoded data removed]",
            "text/plain": [
              "<Figure size 425.125x360 with 1 Axes>"
            ]
          },
          "metadata": {
            "tags": []
          }
        },
        {
          "output_type": "display_data",
          "data": {
            "image/png": "[encoded data removed]",
            "text/plain": [
              "<Figure size 425.125x360 with 1 Axes>"
            ]
          },
          "metadata": {
            "tags": []
          }
        }
      ]
    },
    {
      "cell_type": "code",
      "metadata": {
        "id": "if-RY4aTd4CZ",
        "colab_type": "code",
        "colab": {
          "base_uri": "https://localhost:8080/",
          "height": 52
        },
        "outputId": "53585cd3-0921-40de-e2c6-856ca964480f"
      },
      "source": [
        "concat = c_fleet+ n_fleet\n",
        "perm = np.random.permutation(concat)\n",
        "\n",
        "pold = perm[:int(len(perm)/2)]\n",
        "pnew = perm[int(len(perm)/2):]\n",
        "\n",
        "diff_array=[]\n",
        "\n",
        "pold_mean=np.mean(pold)\n",
        "pnew_mean=np.mean(pnew)\n",
        "mean_obs=np.abs(pold_mean-pnew_mean)\n",
        "\n",
        "a=np.size(pold)\n",
        "b=np.size(pnew)\n",
        "\n",
        "iteration=0\n",
        "for i in range(100,100000,1000):\n",
        "    boot =boostrap_mean(pold,a,i)\n",
        "    #boot = boostrap_mean_ci(c_fleet,a, i, 95)       #a= size of the array c_fleet\n",
        "    boots_c.append([i, boot[0], \"mean\"])\n",
        "    boots_c.append([i, boot[1], \"lower\"])\n",
        "    boots_c.append([i, boot[2], \"upper\"])\n",
        "\n",
        "    boot1 =boostrap_mean(pnew,b,i)\n",
        "    #boot1 = boostrap_mean_ci(n_fleet,b, i, 95)       #b= size of the array n_fleet\n",
        "    boots_n.append([i, boot1[0], \"mean\"])\n",
        "    boots_n.append([i, boot1[1], \"lower\"])\n",
        "    boots_n.append([i, boot1[2], \"upper\"])\n",
        "\n",
        "    diff_array.append(np.abs(boot[0]-boot1[0]))\n",
        "    \n",
        "    iteration+=1\n",
        "\n",
        "prob=0\n",
        "\n",
        "for j in range(iteration):\n",
        "  if(diff_array[j]>=mean_obs):\n",
        "    prob+=1\n",
        "\n",
        "p_val=prob/iteration\n",
        "\n",
        "print(\"P value is: \",p_val)\n",
        "\n",
        "if(p_val>0.05):\n",
        "  print(\"The two fleets has no difference\")\n",
        "else:\n",
        "  print(\"The new fleet is good\")"
      ],
      "execution_count": 36,
      "outputs": [
        {
          "output_type": "stream",
          "text": [
            "P value is:  1.0\n",
            "The two fleets has no difference\n"
          ],
          "name": "stdout"
        }
      ]
    }
  ]
}