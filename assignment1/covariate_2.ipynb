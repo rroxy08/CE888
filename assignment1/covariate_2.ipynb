{
  "nbformat": 4,
  "nbformat_minor": 0,
  "metadata": {
    "colab": {
      "name": "covariate__2.ipynb",
      "provenance": [],
      "collapsed_sections": [],
      "toc_visible": true,
      "machine_shape": "hm",
      "authorship_tag": "ABX9TyN0kpdx06unthuiAt+i3/7a",
      "include_colab_link": true
    },
    "kernelspec": {
      "name": "python3",
      "display_name": "Python 3"
    }
  },
  "cells": [
    {
      "cell_type": "markdown",
      "metadata": {
        "id": "view-in-github",
        "colab_type": "text"
      },
      "source": [
        "<a href=\"https://colab.research.google.com/github/rroxy08/CE888/blob/master/assignment1/covariate_2.ipynb\" target=\"_parent\"><img src=\"https://colab.research.google.com/assets/colab-badge.svg\" alt=\"Open In Colab\"/></a>"
      ]
    },
    {
      "cell_type": "code",
      "metadata": {
        "id": "HhiXV2FafFvf",
        "colab_type": "code",
        "colab": {}
      },
      "source": [
        "%matplotlib inline\n",
        "import matplotlib\n",
        "import numpy as np\n",
        "import matplotlib.pyplot as plt\n",
        "import pandas as pd\n",
        "import seaborn as sns\n",
        "import random as rd\n",
        "from scipy.ndimage.filters import gaussian_filter\n",
        "from sklearn.neighbors import KernelDensity\n",
        "import os\n",
        "from sklearn import preprocessing\n",
        "from sklearn.ensemble import RandomForestClassifier\n",
        "from sklearn.ensemble import ExtraTreesClassifier\n",
        "from sklearn.model_selection import cross_val_score\n",
        "from sklearn.preprocessing import LabelEncoder\n",
        "import scipy.stats  as stats\n",
        "from scipy.stats import norm\n",
        "from sklearn.metrics import accuracy_score\n",
        "\n",
        "#drive.mount('/content/gdrive')\n",
        "os.environ['KAGGLE_USERNAME'] = \"khaledabegum\"\n",
        "os.environ['KAGGLE_KEY'] = \"d51b08acbd052ca7a4b2f21e76aa0e6f\"\n"
      ],
      "execution_count": 0,
      "outputs": []
    },
    {
      "cell_type": "code",
      "metadata": {
        "id": "Njx59rbplDQA",
        "colab_type": "code",
        "outputId": "5d8166a0-cd1f-4c02-b15c-aeede5d84125",
        "colab": {
          "base_uri": "https://localhost:8080/",
          "height": 187
        }
      },
      "source": [
        "#!kaggle competitions download -c santander-customer-transaction-prediction\n",
        "!kaggle competitions download --force -c porto-seguro-safe-driver-prediction"
      ],
      "execution_count": 41,
      "outputs": [
        {
          "output_type": "stream",
          "text": [
            "Warning: Looks like you're using an outdated API Version, please consider updating (server 1.5.6 / client 1.5.4)\n",
            "Downloading sample_submission.csv.zip to /content\n",
            "  0% 0.00/2.12M [00:00<?, ?B/s]\n",
            "100% 2.12M/2.12M [00:00<00:00, 69.4MB/s]\n",
            "Downloading train.csv.zip to /content\n",
            " 57% 17.0M/30.0M [00:00<00:00, 172MB/s]\n",
            "100% 30.0M/30.0M [00:00<00:00, 146MB/s]\n",
            "Downloading test.csv.zip to /content\n",
            " 92% 41.0M/44.4M [00:01<00:00, 16.8MB/s]\n",
            "100% 44.4M/44.4M [00:01<00:00, 27.1MB/s]\n"
          ],
          "name": "stdout"
        }
      ]
    },
    {
      "cell_type": "code",
      "metadata": {
        "id": "ZQvvvcFHKlni",
        "colab_type": "code",
        "outputId": "cb58f7b6-f2bb-4ee4-bb72-937153f817a1",
        "colab": {
          "base_uri": "https://localhost:8080/",
          "height": 51
        }
      },
      "source": [
        "from zipfile import ZipFile\n",
        "\n",
        "file_names = [\"/content/train.csv.zip\",\"/content/test.csv.zip\"]\n",
        "for file_name in file_names:\n",
        "  with ZipFile(file_name, 'r') as zip:\n",
        "    zip.extractall()\n",
        "    print('done')"
      ],
      "execution_count": 42,
      "outputs": [
        {
          "output_type": "stream",
          "text": [
            "done\n",
            "done\n"
          ],
          "name": "stdout"
        }
      ]
    },
    {
      "cell_type": "code",
      "metadata": {
        "id": "2QjbZ53ifT2X",
        "colab_type": "code",
        "colab": {}
      },
      "source": [
        "root_path1 = '/content/train.csv' \n",
        "root_path2 = '/content/test.csv' \n",
        "df_train=pd.read_csv(root_path1)\n",
        "df_test=pd.read_csv(root_path2)\n",
        "#df_tr=df_train.sample(10000)\n",
        "#if \"socialEngagementType\" in df_tr.columns:\n",
        "  #del df_tr[\"socialEngagementType\"]\n",
        "df_tr=df_train.copy()\n",
        "df_ts=df_test.copy()\n",
        "#df_tr.head(10)\n",
        "#df_tr['target'].value_counts()"
      ],
      "execution_count": 0,
      "outputs": []
    },
    {
      "cell_type": "code",
      "metadata": {
        "id": "kuPVLUiXDkL4",
        "colab_type": "code",
        "outputId": "b3510b4d-001d-4b06-8f44-1fd6f630ec38",
        "colab": {
          "base_uri": "https://localhost:8080/",
          "height": 34
        }
      },
      "source": [
        "#df_tr.head()\n",
        "df_tr.shape\n",
        "\n",
        "#df_tr[['full_sq','raion_popul']].plot.hist()\n",
        "#df_ts[['full_sq','raion_popul']].plot.hist()\n",
        "#df_ts.dtypes"
      ],
      "execution_count": 44,
      "outputs": [
        {
          "output_type": "execute_result",
          "data": {
            "text/plain": [
              "(595212, 59)"
            ]
          },
          "metadata": {
            "tags": []
          },
          "execution_count": 44
        }
      ]
    },
    {
      "cell_type": "code",
      "metadata": {
        "id": "-6lL7VYAVJHo",
        "colab_type": "code",
        "outputId": "7abebacb-f62b-4467-d41f-559e08943fc1",
        "colab": {
          "base_uri": "https://localhost:8080/",
          "height": 224
        }
      },
      "source": [
        "for i in df_tr.columns:\n",
        "    if (df_tr[i].dtype == 'object'):\n",
        "      df_tr[i] = df_tr[i].fillna(df_tr[i].mode().iloc[0])\n",
        "    if (df_tr[i].dtype == 'int'or df_tr[i].dtype == 'float'):\n",
        "      df_tr[i] = df_tr[i].fillna(np.mean(df_tr[i]))\n",
        "\n",
        "for i in df_ts.columns:\n",
        "    if (df_ts[i].dtype == 'object'):\n",
        "      df_ts[i] = df_ts[i].fillna(df_ts[i].mode().iloc[0])\n",
        "    if (df_ts[i].dtype == 'int' or df_ts[i].dtype == 'float'):\n",
        "      df_ts[i] = df_ts[i].fillna(np.mean(df_ts[i]))\n",
        "\n",
        "## Label    encoding\n",
        "number = LabelEncoder()\n",
        "for i in df_tr.columns:\n",
        "    if (df_tr[i].dtype == 'object'):\n",
        "      df_tr[i] = number.fit_transform(df_tr[i].astype('str'))\n",
        "      df_tr[i] = df_tr[i].astype('object')\n",
        "\n",
        "for i in df_ts.columns:\n",
        "    if (df_ts[i].dtype == 'object'):\n",
        "      df_ts[i] = number.fit_transform(df_ts[i].astype('str'))\n",
        "      df_ts[i] = df_ts[i].astype('object')\n",
        "\n",
        "df_tr.head()"
      ],
      "execution_count": 45,
      "outputs": [
        {
          "output_type": "execute_result",
          "data": {
            "text/html": [
              "<div>\n",
              "<style scoped>\n",
              "    .dataframe tbody tr th:only-of-type {\n",
              "        vertical-align: middle;\n",
              "    }\n",
              "\n",
              "    .dataframe tbody tr th {\n",
              "        vertical-align: top;\n",
              "    }\n",
              "\n",
              "    .dataframe thead th {\n",
              "        text-align: right;\n",
              "    }\n",
              "</style>\n",
              "<table border=\"1\" class=\"dataframe\">\n",
              "  <thead>\n",
              "    <tr style=\"text-align: right;\">\n",
              "      <th></th>\n",
              "      <th>id</th>\n",
              "      <th>target</th>\n",
              "      <th>ps_ind_01</th>\n",
              "      <th>ps_ind_02_cat</th>\n",
              "      <th>ps_ind_03</th>\n",
              "      <th>ps_ind_04_cat</th>\n",
              "      <th>ps_ind_05_cat</th>\n",
              "      <th>ps_ind_06_bin</th>\n",
              "      <th>ps_ind_07_bin</th>\n",
              "      <th>ps_ind_08_bin</th>\n",
              "      <th>ps_ind_09_bin</th>\n",
              "      <th>ps_ind_10_bin</th>\n",
              "      <th>ps_ind_11_bin</th>\n",
              "      <th>ps_ind_12_bin</th>\n",
              "      <th>ps_ind_13_bin</th>\n",
              "      <th>ps_ind_14</th>\n",
              "      <th>ps_ind_15</th>\n",
              "      <th>ps_ind_16_bin</th>\n",
              "      <th>ps_ind_17_bin</th>\n",
              "      <th>ps_ind_18_bin</th>\n",
              "      <th>ps_reg_01</th>\n",
              "      <th>ps_reg_02</th>\n",
              "      <th>ps_reg_03</th>\n",
              "      <th>ps_car_01_cat</th>\n",
              "      <th>ps_car_02_cat</th>\n",
              "      <th>ps_car_03_cat</th>\n",
              "      <th>ps_car_04_cat</th>\n",
              "      <th>ps_car_05_cat</th>\n",
              "      <th>ps_car_06_cat</th>\n",
              "      <th>ps_car_07_cat</th>\n",
              "      <th>ps_car_08_cat</th>\n",
              "      <th>ps_car_09_cat</th>\n",
              "      <th>ps_car_10_cat</th>\n",
              "      <th>ps_car_11_cat</th>\n",
              "      <th>ps_car_11</th>\n",
              "      <th>ps_car_12</th>\n",
              "      <th>ps_car_13</th>\n",
              "      <th>ps_car_14</th>\n",
              "      <th>ps_car_15</th>\n",
              "      <th>ps_calc_01</th>\n",
              "      <th>ps_calc_02</th>\n",
              "      <th>ps_calc_03</th>\n",
              "      <th>ps_calc_04</th>\n",
              "      <th>ps_calc_05</th>\n",
              "      <th>ps_calc_06</th>\n",
              "      <th>ps_calc_07</th>\n",
              "      <th>ps_calc_08</th>\n",
              "      <th>ps_calc_09</th>\n",
              "      <th>ps_calc_10</th>\n",
              "      <th>ps_calc_11</th>\n",
              "      <th>ps_calc_12</th>\n",
              "      <th>ps_calc_13</th>\n",
              "      <th>ps_calc_14</th>\n",
              "      <th>ps_calc_15_bin</th>\n",
              "      <th>ps_calc_16_bin</th>\n",
              "      <th>ps_calc_17_bin</th>\n",
              "      <th>ps_calc_18_bin</th>\n",
              "      <th>ps_calc_19_bin</th>\n",
              "      <th>ps_calc_20_bin</th>\n",
              "    </tr>\n",
              "  </thead>\n",
              "  <tbody>\n",
              "    <tr>\n",
              "      <th>0</th>\n",
              "      <td>7</td>\n",
              "      <td>0</td>\n",
              "      <td>2</td>\n",
              "      <td>2</td>\n",
              "      <td>5</td>\n",
              "      <td>1</td>\n",
              "      <td>0</td>\n",
              "      <td>0</td>\n",
              "      <td>1</td>\n",
              "      <td>0</td>\n",
              "      <td>0</td>\n",
              "      <td>0</td>\n",
              "      <td>0</td>\n",
              "      <td>0</td>\n",
              "      <td>0</td>\n",
              "      <td>0</td>\n",
              "      <td>11</td>\n",
              "      <td>0</td>\n",
              "      <td>1</td>\n",
              "      <td>0</td>\n",
              "      <td>0.7</td>\n",
              "      <td>0.2</td>\n",
              "      <td>0.718070</td>\n",
              "      <td>10</td>\n",
              "      <td>1</td>\n",
              "      <td>-1</td>\n",
              "      <td>0</td>\n",
              "      <td>1</td>\n",
              "      <td>4</td>\n",
              "      <td>1</td>\n",
              "      <td>0</td>\n",
              "      <td>0</td>\n",
              "      <td>1</td>\n",
              "      <td>12</td>\n",
              "      <td>2</td>\n",
              "      <td>0.400000</td>\n",
              "      <td>0.883679</td>\n",
              "      <td>0.370810</td>\n",
              "      <td>3.605551</td>\n",
              "      <td>0.6</td>\n",
              "      <td>0.5</td>\n",
              "      <td>0.2</td>\n",
              "      <td>3</td>\n",
              "      <td>1</td>\n",
              "      <td>10</td>\n",
              "      <td>1</td>\n",
              "      <td>10</td>\n",
              "      <td>1</td>\n",
              "      <td>5</td>\n",
              "      <td>9</td>\n",
              "      <td>1</td>\n",
              "      <td>5</td>\n",
              "      <td>8</td>\n",
              "      <td>0</td>\n",
              "      <td>1</td>\n",
              "      <td>1</td>\n",
              "      <td>0</td>\n",
              "      <td>0</td>\n",
              "      <td>1</td>\n",
              "    </tr>\n",
              "    <tr>\n",
              "      <th>1</th>\n",
              "      <td>9</td>\n",
              "      <td>0</td>\n",
              "      <td>1</td>\n",
              "      <td>1</td>\n",
              "      <td>7</td>\n",
              "      <td>0</td>\n",
              "      <td>0</td>\n",
              "      <td>0</td>\n",
              "      <td>0</td>\n",
              "      <td>1</td>\n",
              "      <td>0</td>\n",
              "      <td>0</td>\n",
              "      <td>0</td>\n",
              "      <td>0</td>\n",
              "      <td>0</td>\n",
              "      <td>0</td>\n",
              "      <td>3</td>\n",
              "      <td>0</td>\n",
              "      <td>0</td>\n",
              "      <td>1</td>\n",
              "      <td>0.8</td>\n",
              "      <td>0.4</td>\n",
              "      <td>0.766078</td>\n",
              "      <td>11</td>\n",
              "      <td>1</td>\n",
              "      <td>-1</td>\n",
              "      <td>0</td>\n",
              "      <td>-1</td>\n",
              "      <td>11</td>\n",
              "      <td>1</td>\n",
              "      <td>1</td>\n",
              "      <td>2</td>\n",
              "      <td>1</td>\n",
              "      <td>19</td>\n",
              "      <td>3</td>\n",
              "      <td>0.316228</td>\n",
              "      <td>0.618817</td>\n",
              "      <td>0.388716</td>\n",
              "      <td>2.449490</td>\n",
              "      <td>0.3</td>\n",
              "      <td>0.1</td>\n",
              "      <td>0.3</td>\n",
              "      <td>2</td>\n",
              "      <td>1</td>\n",
              "      <td>9</td>\n",
              "      <td>5</td>\n",
              "      <td>8</td>\n",
              "      <td>1</td>\n",
              "      <td>7</td>\n",
              "      <td>3</td>\n",
              "      <td>1</td>\n",
              "      <td>1</td>\n",
              "      <td>9</td>\n",
              "      <td>0</td>\n",
              "      <td>1</td>\n",
              "      <td>1</td>\n",
              "      <td>0</td>\n",
              "      <td>1</td>\n",
              "      <td>0</td>\n",
              "    </tr>\n",
              "    <tr>\n",
              "      <th>2</th>\n",
              "      <td>13</td>\n",
              "      <td>0</td>\n",
              "      <td>5</td>\n",
              "      <td>4</td>\n",
              "      <td>9</td>\n",
              "      <td>1</td>\n",
              "      <td>0</td>\n",
              "      <td>0</td>\n",
              "      <td>0</td>\n",
              "      <td>1</td>\n",
              "      <td>0</td>\n",
              "      <td>0</td>\n",
              "      <td>0</td>\n",
              "      <td>0</td>\n",
              "      <td>0</td>\n",
              "      <td>0</td>\n",
              "      <td>12</td>\n",
              "      <td>1</td>\n",
              "      <td>0</td>\n",
              "      <td>0</td>\n",
              "      <td>0.0</td>\n",
              "      <td>0.0</td>\n",
              "      <td>-1.000000</td>\n",
              "      <td>7</td>\n",
              "      <td>1</td>\n",
              "      <td>-1</td>\n",
              "      <td>0</td>\n",
              "      <td>-1</td>\n",
              "      <td>14</td>\n",
              "      <td>1</td>\n",
              "      <td>1</td>\n",
              "      <td>2</td>\n",
              "      <td>1</td>\n",
              "      <td>60</td>\n",
              "      <td>1</td>\n",
              "      <td>0.316228</td>\n",
              "      <td>0.641586</td>\n",
              "      <td>0.347275</td>\n",
              "      <td>3.316625</td>\n",
              "      <td>0.5</td>\n",
              "      <td>0.7</td>\n",
              "      <td>0.1</td>\n",
              "      <td>2</td>\n",
              "      <td>2</td>\n",
              "      <td>9</td>\n",
              "      <td>1</td>\n",
              "      <td>8</td>\n",
              "      <td>2</td>\n",
              "      <td>7</td>\n",
              "      <td>4</td>\n",
              "      <td>2</td>\n",
              "      <td>7</td>\n",
              "      <td>7</td>\n",
              "      <td>0</td>\n",
              "      <td>1</td>\n",
              "      <td>1</td>\n",
              "      <td>0</td>\n",
              "      <td>1</td>\n",
              "      <td>0</td>\n",
              "    </tr>\n",
              "    <tr>\n",
              "      <th>3</th>\n",
              "      <td>16</td>\n",
              "      <td>0</td>\n",
              "      <td>0</td>\n",
              "      <td>1</td>\n",
              "      <td>2</td>\n",
              "      <td>0</td>\n",
              "      <td>0</td>\n",
              "      <td>1</td>\n",
              "      <td>0</td>\n",
              "      <td>0</td>\n",
              "      <td>0</td>\n",
              "      <td>0</td>\n",
              "      <td>0</td>\n",
              "      <td>0</td>\n",
              "      <td>0</td>\n",
              "      <td>0</td>\n",
              "      <td>8</td>\n",
              "      <td>1</td>\n",
              "      <td>0</td>\n",
              "      <td>0</td>\n",
              "      <td>0.9</td>\n",
              "      <td>0.2</td>\n",
              "      <td>0.580948</td>\n",
              "      <td>7</td>\n",
              "      <td>1</td>\n",
              "      <td>0</td>\n",
              "      <td>0</td>\n",
              "      <td>1</td>\n",
              "      <td>11</td>\n",
              "      <td>1</td>\n",
              "      <td>1</td>\n",
              "      <td>3</td>\n",
              "      <td>1</td>\n",
              "      <td>104</td>\n",
              "      <td>1</td>\n",
              "      <td>0.374166</td>\n",
              "      <td>0.542949</td>\n",
              "      <td>0.294958</td>\n",
              "      <td>2.000000</td>\n",
              "      <td>0.6</td>\n",
              "      <td>0.9</td>\n",
              "      <td>0.1</td>\n",
              "      <td>2</td>\n",
              "      <td>4</td>\n",
              "      <td>7</td>\n",
              "      <td>1</td>\n",
              "      <td>8</td>\n",
              "      <td>4</td>\n",
              "      <td>2</td>\n",
              "      <td>2</td>\n",
              "      <td>2</td>\n",
              "      <td>4</td>\n",
              "      <td>9</td>\n",
              "      <td>0</td>\n",
              "      <td>0</td>\n",
              "      <td>0</td>\n",
              "      <td>0</td>\n",
              "      <td>0</td>\n",
              "      <td>0</td>\n",
              "    </tr>\n",
              "    <tr>\n",
              "      <th>4</th>\n",
              "      <td>17</td>\n",
              "      <td>0</td>\n",
              "      <td>0</td>\n",
              "      <td>2</td>\n",
              "      <td>0</td>\n",
              "      <td>1</td>\n",
              "      <td>0</td>\n",
              "      <td>1</td>\n",
              "      <td>0</td>\n",
              "      <td>0</td>\n",
              "      <td>0</td>\n",
              "      <td>0</td>\n",
              "      <td>0</td>\n",
              "      <td>0</td>\n",
              "      <td>0</td>\n",
              "      <td>0</td>\n",
              "      <td>9</td>\n",
              "      <td>1</td>\n",
              "      <td>0</td>\n",
              "      <td>0</td>\n",
              "      <td>0.7</td>\n",
              "      <td>0.6</td>\n",
              "      <td>0.840759</td>\n",
              "      <td>11</td>\n",
              "      <td>1</td>\n",
              "      <td>-1</td>\n",
              "      <td>0</td>\n",
              "      <td>-1</td>\n",
              "      <td>14</td>\n",
              "      <td>1</td>\n",
              "      <td>1</td>\n",
              "      <td>2</td>\n",
              "      <td>1</td>\n",
              "      <td>82</td>\n",
              "      <td>3</td>\n",
              "      <td>0.316070</td>\n",
              "      <td>0.565832</td>\n",
              "      <td>0.365103</td>\n",
              "      <td>2.000000</td>\n",
              "      <td>0.4</td>\n",
              "      <td>0.6</td>\n",
              "      <td>0.0</td>\n",
              "      <td>2</td>\n",
              "      <td>2</td>\n",
              "      <td>6</td>\n",
              "      <td>3</td>\n",
              "      <td>10</td>\n",
              "      <td>2</td>\n",
              "      <td>12</td>\n",
              "      <td>3</td>\n",
              "      <td>1</td>\n",
              "      <td>1</td>\n",
              "      <td>3</td>\n",
              "      <td>0</td>\n",
              "      <td>0</td>\n",
              "      <td>0</td>\n",
              "      <td>1</td>\n",
              "      <td>1</td>\n",
              "      <td>0</td>\n",
              "    </tr>\n",
              "  </tbody>\n",
              "</table>\n",
              "</div>"
            ],
            "text/plain": [
              "   id  target  ps_ind_01  ...  ps_calc_18_bin  ps_calc_19_bin  ps_calc_20_bin\n",
              "0   7       0          2  ...               0               0               1\n",
              "1   9       0          1  ...               0               1               0\n",
              "2  13       0          5  ...               0               1               0\n",
              "3  16       0          0  ...               0               0               0\n",
              "4  17       0          0  ...               1               1               0\n",
              "\n",
              "[5 rows x 59 columns]"
            ]
          },
          "metadata": {
            "tags": []
          },
          "execution_count": 45
        }
      ]
    },
    {
      "cell_type": "code",
      "metadata": {
        "id": "j2upREPbTGCq",
        "colab_type": "code",
        "outputId": "47b0331c-a2c3-423e-b755-69917eed54fe",
        "colab": {
          "base_uri": "https://localhost:8080/",
          "height": 68
        }
      },
      "source": [
        "#df_ts.head()\n",
        "df_tr['target'].value_counts()"
      ],
      "execution_count": 46,
      "outputs": [
        {
          "output_type": "execute_result",
          "data": {
            "text/plain": [
              "0    573518\n",
              "1     21694\n",
              "Name: target, dtype: int64"
            ]
          },
          "metadata": {
            "tags": []
          },
          "execution_count": 46
        }
      ]
    },
    {
      "cell_type": "code",
      "metadata": {
        "id": "ij5gKmmKAPAD",
        "colab_type": "code",
        "colab": {}
      },
      "source": [
        "def return_intersection(hist_1, hist_2):\n",
        "    minima = np.minimum(hist_1, hist_2)\n",
        "    intersection = np.true_divide(np.sum(minima), np.sum(hist_2))\n",
        "    return intersection\n",
        "'''\n",
        "def kl_divergence(p, q):\n",
        "    return np.sum(np.where(p != 0, p * np.log(p / q), 0))\n",
        "'''\n",
        "def compute_kl_divergence(p,q):\n",
        "    \n",
        "    kl_div = 0.0\n",
        "    len=np.size(p)\n",
        "    p = np.asarray(p, dtype=np.float)\n",
        "    q = np.asarray(q, dtype=np.float)\n",
        "       \n",
        "    for i in range(len):\n",
        "      #p[i]=p[i]+0.00001\n",
        "      #q[i]=q[i]+0.00001  \n",
        "                     \n",
        "      if(q[i]!=0.0 and p[i]!=0):\n",
        "        kl_div+=p[i]*(np.log(p[i]/q[i]))                 \n",
        "    return kl_div   "
      ],
      "execution_count": 0,
      "outputs": []
    },
    {
      "cell_type": "code",
      "metadata": {
        "id": "8qZFDVot9bOa",
        "colab_type": "code",
        "outputId": "f6025df5-0958-4bf5-920b-67c1e202ab45",
        "colab": {
          "base_uri": "https://localhost:8080/",
          "height": 1000
        }
      },
      "source": [
        "features= ['ps_ind_02_cat', 'ps_reg_03', 'ps_car_10_cat', 'ps_car_13', 'ps_calc_06', 'ps_calc_11', 'ps_calc_13']\n",
        "\n",
        "training = df_tr.sample(7600, random_state=12) \n",
        "testing = df_ts.sample(7600,random_state=11) \n",
        "\n",
        "if('target' in training):\n",
        "  del training['target']\n",
        "\n",
        "if('id' in training):\n",
        "  del training['id']\n",
        "\n",
        "if('id' in testing):\n",
        "  del testing['id']\n",
        "\n",
        "bin_val = 10\n",
        "i=0 \n",
        "sigma=1\n",
        "\n",
        "for col in training[features].columns: \n",
        "  hist_1, _ = np.histogram(training[col], bins=bin_val,density=True) \n",
        "  hist_2, _ = np.histogram(testing[col], bins=bin_val,density=True)\n",
        "  \n",
        "  #histpgram distribution \n",
        "\n",
        "  hist_r=hist_1/np.sum(hist_1)\n",
        "  hist_s=hist_2/np.sum(hist_2)\n",
        "\n",
        "  #Gaussian smoothing of histogram for non zero probability distribution\n",
        "\n",
        "  asmooth, bsmooth = (gaussian_filter(hist_r, sigma),\n",
        "                        gaussian_filter(hist_s,sigma))\n",
        "  \n",
        "  hist_val=return_intersection(hist_1, hist_2)\n",
        "  kl_val= compute_kl_divergence(asmooth, bsmooth)\n",
        "  #------------------------------------------------------------\n",
        "  #------------------------------------------------------------\n",
        "  \n",
        "  fig = plt.figure(figsize=(10,5))\n",
        "  ax1 = fig.add_subplot(121) \n",
        "  ax1.hist(training[col], bins=10, color='blue',label='train data',alpha=0.2) \n",
        "  ax1.hist(testing[col], bins=10, color='red',label='test data', alpha=0.2) \n",
        " \n",
        "    \n",
        "  ax1.set_title('column- '+col+'. Hist:'+ str(round(hist_val,2))+' & KL: '+str(round(kl_val,2))) \n",
        "  ax1.legend()\n",
        "  \n",
        "  \n"
      ],
      "execution_count": 48,
      "outputs": [
        {
          "output_type": "display_data",
          "data": {
            "image/png": "[encoded data removed]",
            "text/plain": [
              "<Figure size 720x360 with 1 Axes>"
            ]
          },
          "metadata": {
            "tags": []
          }
        },
        {
          "output_type": "display_data",
          "data": {
            "image/png": "[encoded data removed]",
            "text/plain": [
              "<Figure size 720x360 with 1 Axes>"
            ]
          },
          "metadata": {
            "tags": []
          }
        },
        {
          "output_type": "display_data",
          "data": {
            "image/png": "[encoded data removed]",
            "text/plain": [
              "<Figure size 720x360 with 1 Axes>"
            ]
          },
          "metadata": {
            "tags": []
          }
        },
        {
          "output_type": "display_data",
          "data": {
            "image/png": "[encoded data removed]",
            "text/plain": [
              "<Figure size 720x360 with 1 Axes>"
            ]
          },
          "metadata": {
            "tags": []
          }
        },
        {
          "output_type": "display_data",
          "data": {
            "image/png": "[encoded data removed]",
            "text/plain": [
              "<Figure size 720x360 with 1 Axes>"
            ]
          },
          "metadata": {
            "tags": []
          }
        },
        {
          "output_type": "display_data",
          "data": {
            "image/png": "[encoded data removed]",
            "text/plain": [
              "<Figure size 720x360 with 1 Axes>"
            ]
          },
          "metadata": {
            "tags": []
          }
        },
        {
          "output_type": "display_data",
          "data": {
            "image/png": "[encoded data removed]",
            "text/plain": [
              "<Figure size 720x360 with 1 Axes>"
            ]
          },
          "metadata": {
            "tags": []
          }
        }
      ]
    },
    {
      "cell_type": "code",
      "metadata": {
        "id": "yuNw9M8eTFab",
        "colab_type": "code",
        "outputId": "70643959-c6b4-4f23-b989-ebb55c5196ed",
        "colab": {
          "base_uri": "https://localhost:8080/",
          "height": 71
        }
      },
      "source": [
        "data_shift_hist=[]\n",
        "data_shift_kl2=[]\n",
        "data_shift_kl=[]\n",
        "\n",
        "bin_val=10\n",
        "\n",
        "for col in training.columns : \n",
        "  hist_1, _ = np.histogram(training[col], bins=bin_val,density=True) \n",
        "  hist_2, _ = np.histogram(testing[col], bins=bin_val,density=True)\n",
        "  \n",
        "  hist_1=hist_1/np.sum(hist_1)\n",
        "  hist_2=hist_2/np.sum(hist_2)\n",
        "                                                        #Gaussian smoothing for non zero probability distribution\n",
        "  asmooth, bsmooth = (gaussian_filter(hist_1, sigma),\n",
        "                        gaussian_filter(hist_2, sigma))\n",
        " \n",
        "  hist_val=return_intersection(hist_1, hist_2)\n",
        "  kl_val= compute_kl_divergence(asmooth, bsmooth)\n",
        "  \n",
        "  if(hist_val<0.90):\n",
        "    data_shift_hist.append(col)\n",
        "  if(kl_val>0.02):\n",
        "    data_shift_kl.append(col)\n",
        "   \n",
        "  \n",
        "print(\"Total Columns with covariate shift (using Histogram intersection method) are: \",len(data_shift_hist),data_shift_hist)\n",
        "print(\"Total Columns with covariate shift (KL divergence method) are: \",len(data_shift_kl),data_shift_kl)\n",
        "\n"
      ],
      "execution_count": 49,
      "outputs": [
        {
          "output_type": "stream",
          "text": [
            "Total Columns with covariate shift (using Histogram intersection method) are:  8 ['ps_ind_02_cat', 'ps_reg_03', 'ps_car_10_cat', 'ps_car_13', 'ps_calc_06', 'ps_calc_11', 'ps_calc_13', 'ps_calc_14']\n",
            "Total Columns with covariate shift (KL divergence method) are:  8 ['ps_ind_02_cat', 'ps_reg_03', 'ps_car_10_cat', 'ps_car_13', 'ps_calc_06', 'ps_calc_11', 'ps_calc_13', 'ps_calc_14']\n"
          ],
          "name": "stdout"
        }
      ]
    },
    {
      "cell_type": "code",
      "metadata": {
        "id": "gVzkomnwWFLd",
        "colab_type": "code",
        "outputId": "1311f0fa-80d0-4add-faba-3b652947e6da",
        "colab": {
          "base_uri": "https://localhost:8080/",
          "height": 527
        }
      },
      "source": [
        "#building a learning model\n",
        "\n",
        "y=df_tr['target']\n",
        "y=y.sample(8000)\n",
        "X=df_tr.copy()\n",
        "X=X.sample(8000)\n",
        "\n",
        "if('target'in X.columns):\n",
        "  del X['target']\n",
        "X_test=df_ts.copy()\n",
        "X_test=X_test.sample(8000)\n",
        "print(X.columns)\n",
        "print(X_test.columns)"
      ],
      "execution_count": 53,
      "outputs": [
        {
          "output_type": "stream",
          "text": [
            "Index(['id', 'ps_ind_01', 'ps_ind_02_cat', 'ps_ind_03', 'ps_ind_04_cat',\n",
            "       'ps_ind_05_cat', 'ps_ind_06_bin', 'ps_ind_07_bin', 'ps_ind_08_bin',\n",
            "       'ps_ind_09_bin', 'ps_ind_10_bin', 'ps_ind_11_bin', 'ps_ind_12_bin',\n",
            "       'ps_ind_13_bin', 'ps_ind_14', 'ps_ind_15', 'ps_ind_16_bin',\n",
            "       'ps_ind_17_bin', 'ps_ind_18_bin', 'ps_reg_01', 'ps_reg_02', 'ps_reg_03',\n",
            "       'ps_car_01_cat', 'ps_car_02_cat', 'ps_car_03_cat', 'ps_car_04_cat',\n",
            "       'ps_car_05_cat', 'ps_car_06_cat', 'ps_car_07_cat', 'ps_car_08_cat',\n",
            "       'ps_car_09_cat', 'ps_car_10_cat', 'ps_car_11_cat', 'ps_car_11',\n",
            "       'ps_car_12', 'ps_car_13', 'ps_car_14', 'ps_car_15', 'ps_calc_01',\n",
            "       'ps_calc_02', 'ps_calc_03', 'ps_calc_04', 'ps_calc_05', 'ps_calc_06',\n",
            "       'ps_calc_07', 'ps_calc_08', 'ps_calc_09', 'ps_calc_10', 'ps_calc_11',\n",
            "       'ps_calc_12', 'ps_calc_13', 'ps_calc_14', 'ps_calc_15_bin',\n",
            "       'ps_calc_16_bin', 'ps_calc_17_bin', 'ps_calc_18_bin', 'ps_calc_19_bin',\n",
            "       'ps_calc_20_bin'],\n",
            "      dtype='object')\n",
            "Index(['id', 'ps_ind_01', 'ps_ind_02_cat', 'ps_ind_03', 'ps_ind_04_cat',\n",
            "       'ps_ind_05_cat', 'ps_ind_06_bin', 'ps_ind_07_bin', 'ps_ind_08_bin',\n",
            "       'ps_ind_09_bin', 'ps_ind_10_bin', 'ps_ind_11_bin', 'ps_ind_12_bin',\n",
            "       'ps_ind_13_bin', 'ps_ind_14', 'ps_ind_15', 'ps_ind_16_bin',\n",
            "       'ps_ind_17_bin', 'ps_ind_18_bin', 'ps_reg_01', 'ps_reg_02', 'ps_reg_03',\n",
            "       'ps_car_01_cat', 'ps_car_02_cat', 'ps_car_03_cat', 'ps_car_04_cat',\n",
            "       'ps_car_05_cat', 'ps_car_06_cat', 'ps_car_07_cat', 'ps_car_08_cat',\n",
            "       'ps_car_09_cat', 'ps_car_10_cat', 'ps_car_11_cat', 'ps_car_11',\n",
            "       'ps_car_12', 'ps_car_13', 'ps_car_14', 'ps_car_15', 'ps_calc_01',\n",
            "       'ps_calc_02', 'ps_calc_03', 'ps_calc_04', 'ps_calc_05', 'ps_calc_06',\n",
            "       'ps_calc_07', 'ps_calc_08', 'ps_calc_09', 'ps_calc_10', 'ps_calc_11',\n",
            "       'ps_calc_12', 'ps_calc_13', 'ps_calc_14', 'ps_calc_15_bin',\n",
            "       'ps_calc_16_bin', 'ps_calc_17_bin', 'ps_calc_18_bin', 'ps_calc_19_bin',\n",
            "       'ps_calc_20_bin'],\n",
            "      dtype='object')\n"
          ],
          "name": "stdout"
        }
      ]
    },
    {
      "cell_type": "code",
      "metadata": {
        "id": "1esnab4ATxVO",
        "colab_type": "code",
        "outputId": "d5df1aa2-3196-4fda-c1c2-518345d0ca31",
        "colab": {
          "base_uri": "https://localhost:8080/",
          "height": 34
        }
      },
      "source": [
        "# Building the model \n",
        "#extra_tree_forest = ExtraTreesClassifier(n_estimators =20,criterion ='entropy', max_features = 10) \n",
        "extra_tree_forest = RandomForestClassifier(n_estimators=50) \n",
        "# Training the model \n",
        "extra_tree_forest.fit(X, y)\n",
        "y_pred=extra_tree_forest.predict(X_test)\n",
        "val=extra_tree_forest.score(X_test,y)\n",
        "score = accuracy_score(y,y_pred)\n",
        "print(\"The learning accuracy:\",score)"
      ],
      "execution_count": 58,
      "outputs": [
        {
          "output_type": "stream",
          "text": [
            "The learning accuracy: 0.962625\n"
          ],
          "name": "stdout"
        }
      ]
    },
    {
      "cell_type": "code",
      "metadata": {
        "id": "h8XkbOzzIE0P",
        "colab_type": "code",
        "colab": {
          "base_uri": "https://localhost:8080/",
          "height": 628
        },
        "outputId": "1cc3d78a-e201-4e64-dddd-70bafe3dd3f3"
      },
      "source": [
        "# Computing the importance of each feature \n",
        "feature_importance = extra_tree_forest.feature_importances_ \n",
        "  \n",
        "# Normalizing the individual importances \n",
        "feature_importance_normalized = np.std([tree.feature_importances_ for tree in \n",
        "                                        extra_tree_forest.estimators_], \n",
        "                                        axis = 0) \n",
        "imp_arr=[]\n",
        "column_arr=[]\n",
        "\n",
        "for i in range(len(data_shift_kl)):\n",
        "  result = np.where(X.columns.values == data_shift_kl[i])\n",
        "  \n",
        "  j=result[0][0]\n",
        "  imp_arr.append(feature_importance_normalized[j])\n",
        "\n",
        "for item in X.columns:\n",
        "  if(feature_importance_normalized[i]<0.005):\n",
        "    column_arr.append(item)\n",
        "#-------------------------------------------------------\n",
        "# Plotting a Bar Graph to compare the models \n",
        "fig = plt.figure(figsize=(15,9))\n",
        "plt.bar(data_shift_kl,imp_arr)\n",
        "#plt.bar(X.columns, feature_importance_normalized)\n",
        "plt.xlabel('Feature Labels') \n",
        "plt.ylabel('Feature Importances')\n",
        "plt.xticks(rotation='vertical')\n",
        "plt.title('Comparison of different Feature Importances') \n",
        "\n",
        "plt.show()\n"
      ],
      "execution_count": 59,
      "outputs": [
        {
          "output_type": "display_data",
          "data": {
            "image/png": "[encoded data removed]",
            "text/plain": [
              "<Figure size 1080x648 with 1 Axes>"
            ]
          },
          "metadata": {
            "tags": []
          }
        }
      ]
    },
    {
      "cell_type": "code",
      "metadata": {
        "id": "nw-ZHK5YIzlg",
        "colab_type": "code",
        "colab": {
          "base_uri": "https://localhost:8080/",
          "height": 34
        },
        "outputId": "7b081f69-d751-4e6c-964d-7df981ef252d"
      },
      "source": [
        "X_new=X.copy()\n",
        "X_test_new=X_test.copy()\n",
        "y_new=y.copy()\n",
        "\n",
        "#--------------------------------------\n",
        "for i in range(len(data_shift_kl)):\n",
        "  \n",
        "  if(imp_arr[i]<0.04):\n",
        "    del X_new[data_shift_kl[i]]\n",
        "    del X_test_new[data_shift_kl[i]]\n",
        "#------------------------------------------\n",
        "'''\n",
        "for ftr in del_features:\n",
        "  if(ftr in X_new.columns):\n",
        "    del X_new[ftr]\n",
        "    del X_test_new[ftr]\n",
        "'''\n",
        "#--------------------------------\n",
        "# Training the model \n",
        "extra_tree_forest.fit(X_new, y_new)\n",
        "y_pred=extra_tree_forest.predict(X_test_new)\n",
        "score=accuracy_score(y_new,y_pred)\n",
        " \n",
        "print(score)\n",
        "  "
      ],
      "execution_count": 60,
      "outputs": [
        {
          "output_type": "stream",
          "text": [
            "0.962625\n"
          ],
          "name": "stdout"
        }
      ]
    },
    {
      "cell_type": "markdown",
      "metadata": {
        "id": "IEZRwfslA9q9",
        "colab_type": "text"
      },
      "source": [
        ""
      ]
    }
  ]
}