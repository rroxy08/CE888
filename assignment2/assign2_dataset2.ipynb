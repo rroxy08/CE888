{
  "nbformat": 4,
  "nbformat_minor": 0,
  "metadata": {
    "colab": {
      "name": "assign2_dataset2.ipynb",
      "provenance": [],
      "collapsed_sections": [],
      "machine_shape": "hm",
      "authorship_tag": "ABX9TyNoUXT31OUBC5Rv3RtzEt7h",
      "include_colab_link": true
    },
    "kernelspec": {
      "name": "python3",
      "display_name": "Python 3"
    }
  },
  "cells": [
    {
      "cell_type": "markdown",
      "metadata": {
        "id": "view-in-github",
        "colab_type": "text"
      },
      "source": [
        "<a href=\"https://colab.research.google.com/github/rroxy08/CE888/blob/master/assignment2/assign2_dataset2.ipynb\" target=\"_parent\"><img src=\"https://colab.research.google.com/assets/colab-badge.svg\" alt=\"Open In Colab\"/></a>"
      ]
    },
    {
      "cell_type": "code",
      "metadata": {
        "id": "HhiXV2FafFvf",
        "colab_type": "code",
        "colab": {
          "base_uri": "https://localhost:8080/",
          "height": 120
        },
        "outputId": "7dbdda8d-c4a3-439f-bfe6-3f389ecc23e1"
      },
      "source": [
        "#######################      home-credit-default-risk   #########################\n",
        "######################  dataset-2 column-122 ############################\n",
        "import matplotlib\n",
        "import numpy as np\n",
        "import matplotlib.pyplot as plt\n",
        "import pandas as pd\n",
        "import seaborn as sns\n",
        "import random as rd\n",
        "import os\n",
        "from sklearn.metrics import accuracy_score\n",
        "from sklearn.naive_bayes import GaussianNB \n",
        "from sklearn import preprocessing\n",
        "from sklearn.model_selection import StratifiedKFold\n",
        "from sklearn import model_selection\n",
        "from sklearn.model_selection import cross_val_score\n",
        "from sklearn.preprocessing import LabelEncoder\n",
        "from scipy.stats import norm\n",
        "from sklearn.model_selection import train_test_split\n",
        "from tensorflow import keras\n",
        "from keras import Sequential\n",
        "from keras.layers import Dense\n",
        "from scipy.stats import entropy\n",
        "from sklearn.decomposition import PCA\n",
        "from keras.layers import Dropout\n",
        "from sklearn.preprocessing import StandardScaler\n",
        "from keras.wrappers.scikit_learn import KerasClassifier\n",
        "\n",
        "#drive.mount('/content/gdrive')\n",
        "os.environ['KAGGLE_USERNAME'] = \"khaledabegum\"\n",
        "os.environ['KAGGLE_KEY'] = \"3ab75f2bb1de78f9addea9a3f5079ec9\"\n"
      ],
      "execution_count": 1,
      "outputs": [
        {
          "output_type": "stream",
          "text": [
            "/usr/local/lib/python3.6/dist-packages/statsmodels/tools/_testing.py:19: FutureWarning: pandas.util.testing is deprecated. Use the functions in the public API at pandas.testing instead.\n",
            "  import pandas.util.testing as tm\n",
            "Using TensorFlow backend.\n"
          ],
          "name": "stderr"
        }
      ]
    },
    {
      "cell_type": "code",
      "metadata": {
        "id": "Njx59rbplDQA",
        "colab_type": "code",
        "outputId": "99b7f040-8d80-4bee-db99-53c41431f5ec",
        "colab": {
          "base_uri": "https://localhost:8080/",
          "height": 602
        }
      },
      "source": [
        "!kaggle competitions download --force -c home-credit-default-risk\n"
      ],
      "execution_count": 2,
      "outputs": [
        {
          "output_type": "stream",
          "text": [
            "Warning: Looks like you're using an outdated API Version, please consider updating (server 1.5.6 / client 1.5.4)\n",
            "Downloading sample_submission.csv to /content\n",
            "  0% 0.00/524k [00:00<?, ?B/s]\n",
            "100% 524k/524k [00:00<00:00, 76.4MB/s]\n",
            "Downloading POS_CASH_balance.csv.zip to /content\n",
            " 77% 84.0M/109M [00:00<00:00, 68.7MB/s]\n",
            "100% 109M/109M [00:00<00:00, 118MB/s]  \n",
            "Downloading credit_card_balance.csv.zip to /content\n",
            " 89% 86.0M/96.7M [00:00<00:00, 79.2MB/s]\n",
            "100% 96.7M/96.7M [00:00<00:00, 105MB/s] \n",
            "Downloading previous_application.csv.zip to /content\n",
            " 97% 74.0M/76.3M [00:00<00:00, 51.8MB/s]\n",
            "100% 76.3M/76.3M [00:01<00:00, 78.5MB/s]\n",
            "Downloading installments_payments.csv.zip to /content\n",
            " 99% 268M/271M [00:02<00:00, 161MB/s]\n",
            "100% 271M/271M [00:02<00:00, 137MB/s]\n",
            "Downloading application_test.csv.zip to /content\n",
            " 86% 5.00M/5.81M [00:00<00:00, 52.0MB/s]\n",
            "100% 5.81M/5.81M [00:00<00:00, 53.4MB/s]\n",
            "Downloading application_train.csv.zip to /content\n",
            " 91% 33.0M/36.1M [00:00<00:00, 34.5MB/s]\n",
            "100% 36.1M/36.1M [00:00<00:00, 67.0MB/s]\n",
            "Downloading bureau.csv.zip to /content\n",
            " 57% 21.0M/36.8M [00:00<00:00, 49.8MB/s]\n",
            "100% 36.8M/36.8M [00:00<00:00, 123MB/s] \n",
            "Downloading HomeCredit_columns_description.csv to /content\n",
            "  0% 0.00/36.5k [00:00<?, ?B/s]\n",
            "100% 36.5k/36.5k [00:00<00:00, 39.6MB/s]\n",
            "Downloading bureau_balance.csv.zip to /content\n",
            " 83% 47.0M/56.8M [00:00<00:00, 57.6MB/s]\n",
            "100% 56.8M/56.8M [00:00<00:00, 83.3MB/s]\n"
          ],
          "name": "stdout"
        }
      ]
    },
    {
      "cell_type": "code",
      "metadata": {
        "id": "ky5j4V86aM8d",
        "colab_type": "code",
        "outputId": "e896e8f5-28a1-4d92-a4a7-4d8e575218de",
        "colab": {
          "base_uri": "https://localhost:8080/",
          "height": 192
        }
      },
      "source": [
        "!pip install densratio\n",
        "from densratio import densratio"
      ],
      "execution_count": 3,
      "outputs": [
        {
          "output_type": "stream",
          "text": [
            "Collecting densratio\n",
            "  Downloading https://files.pythonhosted.org/packages/5a/4d/834ef1457da2038eca9c148a141820d39a0dbd6a7566ddfcf0f472d32b21/densratio-0.2.2-py3-none-any.whl\n",
            "Requirement already satisfied: numpy in /usr/local/lib/python3.6/dist-packages (from densratio) (1.18.2)\n",
            "Installing collected packages: densratio\n",
            "Successfully installed densratio-0.2.2\n"
          ],
          "name": "stdout"
        }
      ]
    },
    {
      "cell_type": "code",
      "metadata": {
        "id": "ZQvvvcFHKlni",
        "colab_type": "code",
        "outputId": "a6908ea4-9a20-4d35-c324-28083836f53f",
        "colab": {
          "base_uri": "https://localhost:8080/",
          "height": 54
        }
      },
      "source": [
        "from zipfile import ZipFile\n",
        "\n",
        "file_names = [\"/content/application_train.csv.zip\",\"/content/application_test.csv.zip\"]\n",
        "\n",
        "for file_name in file_names:\n",
        "  with ZipFile(file_name, 'r') as zip:\n",
        "    zip.extractall()\n",
        "    print('done')"
      ],
      "execution_count": 4,
      "outputs": [
        {
          "output_type": "stream",
          "text": [
            "done\n",
            "done\n"
          ],
          "name": "stdout"
        }
      ]
    },
    {
      "cell_type": "code",
      "metadata": {
        "id": "2QjbZ53ifT2X",
        "colab_type": "code",
        "colab": {}
      },
      "source": [
        "def read_data():\n",
        "  root_path1 = '/content/application_train.csv' \n",
        "  root_path2 = '/content/application_test.csv' \n",
        "  df_train=pd.read_csv(root_path1)\n",
        "  df_test=pd.read_csv(root_path2)\n",
        "  print(df_train.shape)\n",
        "  print(df_test.shape)\n",
        "  return df_train, df_test"
      ],
      "execution_count": 0,
      "outputs": []
    },
    {
      "cell_type": "code",
      "metadata": {
        "id": "-6lL7VYAVJHo",
        "colab_type": "code",
        "colab": {}
      },
      "source": [
        "#preprocessing of data, fillup the NAN value. Since 'year' data types are float so mode is used to fill NAN samples.\n",
        "def process_data(df_train, df_test):\n",
        "  df_tr=df_train.sample(120000)\n",
        "  df_ts=df_test.copy()\n",
        "  df_tr.count\n",
        "  df_tr.shape\n",
        "  for i in df_tr.columns:\n",
        "      if (df_tr[i].dtype == 'object'or df_tr[i].dtype == 'float'):\n",
        "        df_tr[i] = df_tr[i].fillna(df_tr[i].mode().iloc[0])\n",
        "      if (df_tr[i].dtype == 'int'):\n",
        "        df_tr[i] = df_tr[i].fillna(np.mean(df_tr[i]))\n",
        "\n",
        "  for i in df_ts.columns:\n",
        "      if (df_ts[i].dtype == 'object' or df_ts[i].dtype == 'float'):\n",
        "        df_ts[i] = df_ts[i].fillna(df_ts[i].mode().iloc[0])\n",
        "      if (df_ts[i].dtype == 'int'):\n",
        "        df_ts[i] = df_ts[i].fillna(np.mean(df_ts[i]))\n",
        "\n",
        "  ## Label encoding for string/categorical values\n",
        "  number = LabelEncoder()\n",
        "  for i in df_tr.columns:\n",
        "      if (df_tr[i].dtype == 'object'):\n",
        "        df_tr[i] = number.fit_transform(df_tr[i].astype('str'))\n",
        "        df_tr[i] = df_tr[i].astype('object')\n",
        "\n",
        "  for i in df_ts.columns:\n",
        "      if (df_ts[i].dtype == 'object'):\n",
        "        df_ts[i] = number.fit_transform(df_ts[i].astype('str'))\n",
        "        df_ts[i] = df_ts[i].astype('object')\n",
        "  return df_tr, df_ts"
      ],
      "execution_count": 0,
      "outputs": []
    },
    {
      "cell_type": "code",
      "metadata": {
        "id": "JFB-F-SXbNZQ",
        "colab_type": "code",
        "colab": {}
      },
      "source": [
        "def return_intersection(hist_1, hist_2):\n",
        "    minima = np.minimum(hist_1, hist_2)\n",
        "    intersection = np.true_divide(np.sum(minima), np.sum(hist_2))\n",
        "    return intersection"
      ],
      "execution_count": 0,
      "outputs": []
    },
    {
      "cell_type": "code",
      "metadata": {
        "id": "8qZFDVot9bOa",
        "colab_type": "code",
        "colab": {}
      },
      "source": [
        "def data_histogram(df_tr,df_ts):\n",
        "  training=df_tr.copy()\n",
        "  testing=df_ts.copy()\n",
        "\n",
        "  bin_val=10\n",
        "  x = np.linspace( 0, 10, 45000)\n",
        "  column_shift=dict()\n",
        "\n",
        "  for i in range(len(training.columns)):\n",
        "    col=training.columns[i]\n",
        "    if(col !='TARGET'):\n",
        "      hist_1, bins1 = np.histogram(training[col], bins=bin_val) \n",
        "      hist_2, bins2 = np.histogram(testing[col], bins=bin_val)\n",
        "    \n",
        "      hist_int=return_intersection(hist_1, hist_2)\n",
        "      if(hist_int<0.9 and hist_int>0.0):\n",
        "        column_shift[col]=hist_int\n",
        "        \n",
        "        fig = plt.figure(figsize=(10,5))\n",
        "        ax1 = fig.add_subplot(121) \n",
        "        ax1.hist(training[col], bins=bin_val, color='blue',label='train data',alpha=0.2) \n",
        "        ax1.hist(testing[col], bins=bin_val, color='red',label='test data', alpha=0.2)\n",
        "        ax1.plot(bins1[0:bin_val],hist_1,'--') \n",
        "        ax1.plot(bins2[0:bin_val],hist_2,'--')\n",
        "        ax1.set_title('column- '+col+' - '+ str(hist_int)) \n",
        "        ax1.legend()\n",
        "        \n",
        "  return column_shift\n",
        "\n"
      ],
      "execution_count": 0,
      "outputs": []
    },
    {
      "cell_type": "code",
      "metadata": {
        "id": "DycyiDjnf7Gr",
        "colab_type": "code",
        "colab": {}
      },
      "source": [
        "def data_validation(df_tr,df_ts):\n",
        "\n",
        "  #merge two dataset\n",
        "\n",
        "  if('TARGET' in df_tr.columns):\n",
        "    del df_tr['TARGET']\n",
        "\n",
        "  df_tr['is_test'] = range(1, len(df_tr) + 1)\n",
        "  df_ts['is_test'] = range(1, len(df_ts) + 1)\n",
        "\n",
        "  df_tr['is_test'] = 0\n",
        "  df_ts['is_test'] = 1\n",
        "\n",
        "  df_merge=pd.concat([df_tr, df_ts], sort = False)\n",
        "\n",
        "  if('SK_ID_CURR' in df_merge.columns):\n",
        "    del df_merge['SK_ID_CURR']\n",
        "  \n",
        "  Y=df_merge['is_test']\n",
        "\n",
        "  if('is_test' in df_merge.columns):\n",
        "    del df_merge['is_test']\n",
        "\n",
        "  X_train, X_test, y_train, y_test = train_test_split(df_merge,Y, test_size=0.2)\n",
        "  return X_train, X_test, y_train, y_test"
      ],
      "execution_count": 0,
      "outputs": []
    },
    {
      "cell_type": "code",
      "metadata": {
        "id": "nRmrq7-IHbTw",
        "colab_type": "code",
        "colab": {}
      },
      "source": [
        "def naive_bayes_classifier(Xtr,ytr,Xts,yts,density):\n",
        "  clf = GaussianNB()\n",
        "  if(density=='none'):\n",
        "    clf.fit(Xtr,ytr) \n",
        "  else:\n",
        "    clf.fit(Xtr,ytr,sample_weight=density) \n",
        "  #clf.fit(Xtr, ytr)\n",
        "  y_pred=clf.predict(Xts)\n",
        "  acc_scr=accuracy_score(yts, y_pred)\n",
        "  #print(\"ROC-AUC: \",accuracy_score(yts, y_pred))\n",
        "  scores=clf.score(Xts,yts)\n",
        "  cross_scores=cross_val_score(clf,Xts,yts,cv=10)\n",
        "\n",
        "  return cross_scores,acc_scr,scores"
      ],
      "execution_count": 0,
      "outputs": []
    },
    {
      "cell_type": "code",
      "metadata": {
        "id": "unEReeQMgQ3V",
        "colab_type": "code",
        "colab": {}
      },
      "source": [
        "from keras.regularizers import l1\n",
        "def neural_classifier_model():\n",
        "  \n",
        "  #X_train=np.array(X_train)\n",
        "  dim= feature_num\n",
        "  #unit=int(dim/2)\n",
        "  \n",
        "  classifier = Sequential()\n",
        "  #First Hidden Layer\n",
        "  classifier.add(Dense(units=120, activation='relu', input_dim=dim, kernel_initializer='random_normal',activity_regularizer=l1(0.01))) #\n",
        "  #Second  Hidden Laye\n",
        "  classifier.add(Dense(units=60,activation='relu', kernel_initializer='random_normal',activity_regularizer=l1(0.01)))\n",
        "   #Third  Hidden Layer\n",
        "  classifier.add(Dense(units=32,activation='relu', kernel_initializer='random_normal', activity_regularizer=l1(0.01)))\n",
        "  #Dropout\n",
        "  #classifier.add(Dropout(0.5))\n",
        "  #Output Layer\n",
        "  classifier.add(Dense(1, activation='sigmoid', kernel_initializer='random_normal'))\n",
        "\n",
        "  #Compiling the neural network\n",
        "  classifier.compile(optimizer ='adam',loss='binary_crossentropy', metrics =['accuracy'])   #sparse_categorical_crossentropy''\n",
        "  return classifier\n"
      ],
      "execution_count": 0,
      "outputs": []
    },
    {
      "cell_type": "code",
      "metadata": {
        "id": "fDq8I4YOke9W",
        "colab_type": "code",
        "colab": {}
      },
      "source": [
        "def neural_classifier(X_train, y_train,X_test,y_test,density):\n",
        "  #len(np.array(X_train))\n",
        "  #classifier=neural_classifier_model()\n",
        "  classifier = KerasClassifier(build_fn=neural_classifier_model)\n",
        "\n",
        "  if(density=='none'):\n",
        "    clf_fit=classifier.fit(X_train, y_train,validation_data=[X_test,y_test],epochs=2)\n",
        "  else:\n",
        "    clf_fit=classifier.fit(X_train, y_train, validation_data=[X_test,y_test],sample_weight=density,epochs=2)\n",
        "  \n",
        " \n",
        "  \n",
        "  y_pred=classifier.predict(X_test)\n",
        "  y_pred=(y_pred>0.5)\n",
        "  acc=accuracy_score(y_test, y_pred)\n",
        "  scores=np.mean(clf_fit.history['accuracy'])\n",
        "\n",
        "  cross_scores=cross_val_score(classifier,X_test,y_test,cv=10)\n",
        "\n",
        "  return cross_scores,acc,scores"
      ],
      "execution_count": 0,
      "outputs": []
    },
    {
      "cell_type": "code",
      "metadata": {
        "id": "kbQiRwWtjhb2",
        "colab_type": "code",
        "colab": {}
      },
      "source": [
        "def data_density_ratio(Xtr,Xts):\n",
        "  arr_train=np.array(Xtr)\n",
        "  arr_test=np.array(Xts)\n",
        "\n",
        "  # Estimate the density ratio w\n",
        "  dratio =densratio(arr_train,arr_test, kernel_num=5)\n",
        "  density_ratio = dratio.compute_density_ratio(arr_train)\n",
        "  return density_ratio"
      ],
      "execution_count": 0,
      "outputs": []
    },
    {
      "cell_type": "code",
      "metadata": {
        "id": "EGPK--J1EisR",
        "colab_type": "code",
        "colab": {}
      },
      "source": [
        "def data_PCA(Xtr,Xts,comp_num):\n",
        "\n",
        "  pca = PCA(n_components=comp_num)\n",
        "  fit= pca.fit(Xtr)\n",
        "  \n",
        "  trainX_pca = pca.transform(Xtr)\n",
        "  testX_pca  = pca.transform(Xts)\n",
        "\n",
        "  return np.array(trainX_pca), np.array(testX_pca)"
      ],
      "execution_count": 0,
      "outputs": []
    },
    {
      "cell_type": "code",
      "metadata": {
        "id": "DQZH3StDIzEj",
        "colab_type": "code",
        "outputId": "b9b07fbf-a41d-4372-81f4-db9e8017e3a8",
        "colab": {
          "base_uri": "https://localhost:8080/",
          "height": 1000
        }
      },
      "source": [
        "#Main function call.........\n",
        "df_train, df_test =read_data()\n",
        "df_train, df_test=process_data(df_train, df_test)\n",
        "column_shift=[]\n",
        "column_Shift_dens=[]\n",
        "##################################covariate shift detection through histogram visualization, and histogram intersection#################\n",
        "column_shift=data_histogram(df_train,df_test)\n",
        "################################################# generate train and velidation dataset###############################\n",
        "Xtr,Xts,ytr,yts = data_validation(df_train,df_test)"
      ],
      "execution_count": 15,
      "outputs": [
        {
          "output_type": "stream",
          "text": [
            "(307511, 122)\n",
            "(48744, 121)\n"
          ],
          "name": "stdout"
        },
        {
          "output_type": "display_data",
          "data": {
            "image/png": "[encoded data removed]",
            "text/plain": [
              "<Figure size 720x360 with 1 Axes>"
            ]
          },
          "metadata": {
            "tags": [],
            "needs_background": "light"
          }
        },
        {
          "output_type": "display_data",
          "data": {
            "image/png": "[encoded data removed]",
            "text/plain": [
              "<Figure size 720x360 with 1 Axes>"
            ]
          },
          "metadata": {
            "tags": [],
            "needs_background": "light"
          }
        },
        {
          "output_type": "display_data",
          "data": {
            "image/png": "[encoded data removed]",
            "text/plain": [
              "<Figure size 720x360 with 1 Axes>"
            ]
          },
          "metadata": {
            "tags": [],
            "needs_background": "light"
          }
        }
      ]
    },
    {
      "cell_type": "code",
      "metadata": {
        "id": "8zYfKER7fsSd",
        "colab_type": "code",
        "outputId": "0c217409-1bed-414a-ba70-f3fc0ea82e3b",
        "colab": {
          "base_uri": "https://localhost:8080/",
          "height": 714
        }
      },
      "source": [
        "#classifiers' performance with covariate shift data\n",
        "feature_num=len(Xtr.columns)\n",
        "cross_nb,accuracy_nb,score_nb=naive_bayes_classifier(Xtr,ytr,Xts,yts,'none')\n",
        "print(\"Learning accuracy of Naive Bayes classifier: \",accuracy_nb)\n",
        "print(\"Learning Score of Naive Bayes classifier: \",score_nb)\n",
        "cross_nc,accuracy_nc,score_nc=neural_classifier(Xtr,ytr,Xts,yts,'none')\n",
        "print(\"Learning accuracy of Neural Network classifier: \",accuracy_nc)\n",
        "print(\"Learning accuracy of Neural Network classifier: \",score_nc)\n",
        "print(\"Learning accuracy of Neural Network classifier: \",cross_nc)"
      ],
      "execution_count": 31,
      "outputs": [
        {
          "output_type": "stream",
          "text": [
            "Learning accuracy of Naive Bayes classifier:  0.46030993510918844\n",
            "Learning Score of Naive Bayes classifier:  0.46030993510918844\n",
            "Train on 134995 samples, validate on 33749 samples\n",
            "Epoch 1/2\n",
            "134995/134995 [==============================] - 14s 107us/step - loss: 3452.9840 - accuracy: 0.7064 - val_loss: 1.5045 - val_accuracy: 0.7151\n",
            "Epoch 2/2\n",
            "134995/134995 [==============================] - 14s 102us/step - loss: 1.1158 - accuracy: 0.7102 - val_loss: 0.6046 - val_accuracy: 0.7151\n",
            "Epoch 1/1\n",
            "30374/30374 [==============================] - 2s 81us/step - loss: 17812.3190 - accuracy: 0.7005\n",
            "3375/3375 [==============================] - 0s 36us/step\n",
            "Epoch 1/1\n",
            "30374/30374 [==============================] - 2s 82us/step - loss: 15988.0468 - accuracy: 0.6959\n",
            "3375/3375 [==============================] - 0s 34us/step\n",
            "Epoch 1/1\n",
            "30374/30374 [==============================] - 2s 81us/step - loss: 10127.7815 - accuracy: 0.6989\n",
            "3375/3375 [==============================] - 0s 34us/step\n",
            "Epoch 1/1\n",
            "30374/30374 [==============================] - 3s 85us/step - loss: 19632.6067 - accuracy: 0.6988\n",
            "3375/3375 [==============================] - 0s 36us/step\n",
            "Epoch 1/1\n",
            "30374/30374 [==============================] - 3s 83us/step - loss: 16076.6772 - accuracy: 0.6942\n",
            "3375/3375 [==============================] - 0s 34us/step\n",
            "Epoch 1/1\n",
            "30374/30374 [==============================] - 3s 83us/step - loss: 18256.9889 - accuracy: 0.7015\n",
            "3375/3375 [==============================] - 0s 35us/step\n",
            "Epoch 1/1\n",
            "30374/30374 [==============================] - 2s 80us/step - loss: 15777.4265 - accuracy: 0.6971\n",
            "3375/3375 [==============================] - 0s 35us/step\n",
            "Epoch 1/1\n",
            "30374/30374 [==============================] - 2s 81us/step - loss: 14001.6765 - accuracy: 0.7007\n",
            "3375/3375 [==============================] - 0s 35us/step\n",
            "Epoch 1/1\n",
            "30374/30374 [==============================] - 2s 81us/step - loss: 17604.8039 - accuracy: 0.6812\n",
            "3375/3375 [==============================] - 0s 34us/step\n",
            "Epoch 1/1\n",
            "30375/30375 [==============================] - 3s 99us/step - loss: 17186.7311 - accuracy: 0.6985\n",
            "3374/3374 [==============================] - 0s 35us/step\n",
            "Learning accuracy of Neural Network classifier:  0.7150730392011615\n",
            "Learning accuracy of Neural Network classifier:  0.708267\n",
            "Learning accuracy of Neural Network classifier:  [0.6948148  0.71674073 0.70725924 0.73333335 0.71348149 0.71940738\n",
            " 0.72859257 0.7182222  0.69570369 0.72021341]\n"
          ],
          "name": "stdout"
        }
      ]
    },
    {
      "cell_type": "code",
      "metadata": {
        "id": "uRS6AzyCOsV0",
        "colab_type": "code",
        "colab": {}
      },
      "source": [
        "#print(\"Number of columns with covariate shift \",len(column_shift))\n",
        "#print(\"Columns with covariate shift: \",column_shift)\n",
        "Xtr_drop=Xtr.copy()\n",
        "Xts_drop=Xts.copy()\n",
        "for col in column_shift:\n",
        "  if(column_shift[col]<0.8):\n",
        "    if(col in Xtr_drop.columns):\n",
        "      del Xtr_drop[col]\n",
        "      del Xts_drop[col]"
      ],
      "execution_count": 0,
      "outputs": []
    },
    {
      "cell_type": "code",
      "metadata": {
        "id": "UOrQmLUSOldJ",
        "colab_type": "code",
        "outputId": "ce1ccebc-9583-4c0e-ee1b-1a368c5c1e2d",
        "colab": {
          "base_uri": "https://localhost:8080/",
          "height": 714
        }
      },
      "source": [
        "#classifiers' performance with covariate shift data, DROPPING features ############################\n",
        "feature_num=len(Xtr_drop.columns)\n",
        "print(Xtr.shape)\n",
        "print(Xtr_drop.shape)\n",
        "cross_nb_drop,accuracy_nb,score_nb=naive_bayes_classifier(Xtr_drop,ytr,Xts_drop,yts,'none')\n",
        "print(\"Learning accuracy of Naive Bayes classifier: \",accuracy_nb)\n",
        "print(\"Learning Score of Naive Bayes classifier: \",score_nb)\n",
        "cross_nc_drop,accuracy_nc,score_nc=neural_classifier(Xtr_drop,ytr,Xts_drop,yts,'none')\n",
        "print(\"Learning accuracy of Neural Network classifier: \",accuracy_nc)\n",
        "print(\"Learning accuracy of Neural Network classifier: \",score_nc)"
      ],
      "execution_count": 33,
      "outputs": [
        {
          "output_type": "stream",
          "text": [
            "(134995, 120)\n",
            "(134995, 117)\n",
            "Learning accuracy of Naive Bayes classifier:  0.46125811135144745\n",
            "Learning Score of Naive Bayes classifier:  0.46125811135144745\n",
            "Train on 134995 samples, validate on 33749 samples\n",
            "Epoch 1/2\n",
            "134995/134995 [==============================] - 17s 125us/step - loss: 2834.4247 - accuracy: 0.7070 - val_loss: 1.4557 - val_accuracy: 0.7151\n",
            "Epoch 2/2\n",
            "134995/134995 [==============================] - 16s 120us/step - loss: 25.7388 - accuracy: 0.7102 - val_loss: 0.5999 - val_accuracy: 0.7151\n",
            "Epoch 1/1\n",
            "30374/30374 [==============================] - 3s 88us/step - loss: 17552.9405 - accuracy: 0.6858\n",
            "3375/3375 [==============================] - 0s 35us/step\n",
            "Epoch 1/1\n",
            "30374/30374 [==============================] - 3s 89us/step - loss: 15492.8663 - accuracy: 0.7003\n",
            "3375/3375 [==============================] - 0s 36us/step\n",
            "Epoch 1/1\n",
            "30374/30374 [==============================] - 3s 89us/step - loss: 14620.0853 - accuracy: 0.6917\n",
            "3375/3375 [==============================] - 0s 34us/step\n",
            "Epoch 1/1\n",
            "30374/30374 [==============================] - 3s 90us/step - loss: 15935.5093 - accuracy: 0.6854\n",
            "3375/3375 [==============================] - 0s 35us/step\n",
            "Epoch 1/1\n",
            "30374/30374 [==============================] - 3s 89us/step - loss: 18153.5202 - accuracy: 0.7039\n",
            "3375/3375 [==============================] - 0s 36us/step\n",
            "Epoch 1/1\n",
            "30374/30374 [==============================] - 3s 107us/step - loss: 22418.2564 - accuracy: 0.6789\n",
            "3375/3375 [==============================] - 0s 37us/step\n",
            "Epoch 1/1\n",
            "30374/30374 [==============================] - 3s 87us/step - loss: 14425.2671 - accuracy: 0.6971\n",
            "3375/3375 [==============================] - 0s 35us/step\n",
            "Epoch 1/1\n",
            "30374/30374 [==============================] - 3s 90us/step - loss: 14221.1512 - accuracy: 0.6907\n",
            "3375/3375 [==============================] - 0s 33us/step\n",
            "Epoch 1/1\n",
            "30374/30374 [==============================] - 3s 89us/step - loss: 15978.5125 - accuracy: 0.7035\n",
            "3375/3375 [==============================] - 0s 34us/step\n",
            "Epoch 1/1\n",
            "30375/30375 [==============================] - 3s 88us/step - loss: 13974.8615 - accuracy: 0.6963\n",
            "3374/3374 [==============================] - 0s 35us/step\n",
            "Learning accuracy of Neural Network classifier:  0.7150730392011615\n",
            "Learning accuracy of Neural Network classifier:  0.7085521\n"
          ],
          "name": "stdout"
        }
      ]
    },
    {
      "cell_type": "code",
      "metadata": {
        "id": "d5Ljrdz5ssBp",
        "colab_type": "code",
        "outputId": "9c62372e-9290-41af-c23b-28b5b6cd3495",
        "colab": {
          "base_uri": "https://localhost:8080/",
          "height": 1000
        }
      },
      "source": [
        "density=data_density_ratio(Xtr,Xts)\n",
        "  "
      ],
      "execution_count": 24,
      "outputs": [
        {
          "output_type": "stream",
          "text": [
            "RuLSIF starting...\n",
            "Searching for the optimal sigma and lambda...\n",
            "sigma = 0.00100, lambda = 0.00100, score = 0.00000\n",
            "sigma = 0.00100, lambda = 0.01000, score = 0.00000\n",
            "sigma = 0.00100, lambda = 0.10000, score = 0.00000\n",
            "sigma = 0.00100, lambda = 1.00000, score = 0.00000\n",
            "sigma = 0.00100, lambda = 10.00000, score = 0.00000\n",
            "sigma = 0.00100, lambda = 100.00000, score = 0.00000\n",
            "sigma = 0.00100, lambda = 1000.00000, score = 0.00000\n",
            "sigma = 0.00100, lambda = 10000.00000, score = 0.00000\n",
            "sigma = 0.00100, lambda = 100000.00000, score = 0.00000\n",
            "sigma = 0.00100, lambda = 1000000.00000, score = 0.00000\n",
            "sigma = 0.00100, lambda = 10000000.00000, score = 0.00000\n",
            "sigma = 0.00100, lambda = 100000000.00000, score = 0.00000\n",
            "sigma = 0.00100, lambda = 1000000000.00000, score = 0.00000\n",
            "sigma = 0.01000, lambda = 0.00100, score = 0.00000\n",
            "sigma = 0.01000, lambda = 0.01000, score = 0.00000\n",
            "sigma = 0.01000, lambda = 0.10000, score = 0.00000\n",
            "sigma = 0.01000, lambda = 1.00000, score = 0.00000\n",
            "sigma = 0.01000, lambda = 10.00000, score = 0.00000\n",
            "sigma = 0.01000, lambda = 100.00000, score = 0.00000\n",
            "sigma = 0.01000, lambda = 1000.00000, score = 0.00000\n",
            "sigma = 0.01000, lambda = 10000.00000, score = 0.00000\n",
            "sigma = 0.01000, lambda = 100000.00000, score = 0.00000\n",
            "sigma = 0.01000, lambda = 1000000.00000, score = 0.00000\n",
            "sigma = 0.01000, lambda = 10000000.00000, score = 0.00000\n",
            "sigma = 0.01000, lambda = 100000000.00000, score = 0.00000\n",
            "sigma = 0.01000, lambda = 1000000000.00000, score = 0.00000\n",
            "sigma = 0.10000, lambda = 0.00100, score = 0.00000\n",
            "sigma = 0.10000, lambda = 0.01000, score = 0.00000\n",
            "sigma = 0.10000, lambda = 0.10000, score = 0.00000\n",
            "sigma = 0.10000, lambda = 1.00000, score = 0.00000\n",
            "sigma = 0.10000, lambda = 10.00000, score = 0.00000\n",
            "sigma = 0.10000, lambda = 100.00000, score = 0.00000\n",
            "sigma = 0.10000, lambda = 1000.00000, score = 0.00000\n",
            "sigma = 0.10000, lambda = 10000.00000, score = 0.00000\n",
            "sigma = 0.10000, lambda = 100000.00000, score = 0.00000\n",
            "sigma = 0.10000, lambda = 1000000.00000, score = 0.00000\n",
            "sigma = 0.10000, lambda = 10000000.00000, score = 0.00000\n",
            "sigma = 0.10000, lambda = 100000000.00000, score = 0.00000\n",
            "sigma = 0.10000, lambda = 1000000000.00000, score = 0.00000\n",
            "sigma = 1.00000, lambda = 0.00100, score = 0.00000\n",
            "sigma = 1.00000, lambda = 0.01000, score = 0.00000\n",
            "sigma = 1.00000, lambda = 0.10000, score = 0.00000\n",
            "sigma = 1.00000, lambda = 1.00000, score = 0.00000\n",
            "sigma = 1.00000, lambda = 10.00000, score = 0.00000\n",
            "sigma = 1.00000, lambda = 100.00000, score = 0.00000\n",
            "sigma = 1.00000, lambda = 1000.00000, score = 0.00000\n",
            "sigma = 1.00000, lambda = 10000.00000, score = 0.00000\n",
            "sigma = 1.00000, lambda = 100000.00000, score = 0.00000\n",
            "sigma = 1.00000, lambda = 1000000.00000, score = 0.00000\n",
            "sigma = 1.00000, lambda = 10000000.00000, score = 0.00000\n",
            "sigma = 1.00000, lambda = 100000000.00000, score = 0.00000\n",
            "sigma = 1.00000, lambda = 1000000000.00000, score = 0.00000\n",
            "sigma = 10.00000, lambda = 0.00100, score = 0.00000\n",
            "sigma = 10.00000, lambda = 0.01000, score = 0.00000\n",
            "sigma = 10.00000, lambda = 0.10000, score = 0.00000\n",
            "sigma = 10.00000, lambda = 1.00000, score = 0.00000\n",
            "sigma = 10.00000, lambda = 10.00000, score = 0.00000\n",
            "sigma = 10.00000, lambda = 100.00000, score = 0.00000\n",
            "sigma = 10.00000, lambda = 1000.00000, score = 0.00000\n",
            "sigma = 10.00000, lambda = 10000.00000, score = 0.00000\n",
            "sigma = 10.00000, lambda = 100000.00000, score = 0.00000\n",
            "sigma = 10.00000, lambda = 1000000.00000, score = 0.00000\n",
            "sigma = 10.00000, lambda = 10000000.00000, score = 0.00000\n",
            "sigma = 10.00000, lambda = 100000000.00000, score = 0.00000\n",
            "sigma = 10.00000, lambda = 1000000000.00000, score = 0.00000\n",
            "sigma = 100.00000, lambda = 0.00100, score = -0.00000\n",
            "sigma = 100.00000, lambda = 0.01000, score = -0.00000\n",
            "sigma = 100.00000, lambda = 0.10000, score = -0.00000\n",
            "sigma = 100.00000, lambda = 1.00000, score = -0.00000\n",
            "sigma = 100.00000, lambda = 10.00000, score = -0.00000\n",
            "sigma = 100.00000, lambda = 100.00000, score = -0.00000\n",
            "sigma = 100.00000, lambda = 1000.00000, score = -0.00000\n",
            "sigma = 100.00000, lambda = 10000.00000, score = -0.00000\n",
            "sigma = 100.00000, lambda = 100000.00000, score = -0.00000\n",
            "sigma = 100.00000, lambda = 1000000.00000, score = -0.00000\n",
            "sigma = 100.00000, lambda = 10000000.00000, score = -0.00000\n",
            "sigma = 100.00000, lambda = 100000000.00000, score = -0.00000\n",
            "sigma = 100.00000, lambda = 1000000000.00000, score = -0.00000\n",
            "sigma = 1000.00000, lambda = 0.00100, score = -0.00000\n",
            "sigma = 1000.00000, lambda = 0.01000, score = -0.00000\n",
            "sigma = 1000.00000, lambda = 0.10000, score = -0.00000\n",
            "sigma = 1000.00000, lambda = 1.00000, score = -0.00000\n",
            "sigma = 1000.00000, lambda = 10.00000, score = -0.00000\n",
            "sigma = 1000.00000, lambda = 100.00000, score = -0.00000\n",
            "sigma = 1000.00000, lambda = 1000.00000, score = -0.00000\n",
            "sigma = 1000.00000, lambda = 10000.00000, score = -0.00000\n",
            "sigma = 1000.00000, lambda = 100000.00000, score = -0.00000\n",
            "sigma = 1000.00000, lambda = 1000000.00000, score = -0.00000\n",
            "sigma = 1000.00000, lambda = 10000000.00000, score = -0.00000\n",
            "sigma = 1000.00000, lambda = 100000000.00000, score = -0.00000\n",
            "sigma = 1000.00000, lambda = 1000000000.00000, score = -0.00000\n",
            "sigma = 10000.00000, lambda = 0.00100, score = -0.00250\n",
            "sigma = 10000.00000, lambda = 0.01000, score = -0.00045\n",
            "sigma = 10000.00000, lambda = 0.10000, score = -0.00005\n",
            "sigma = 10000.00000, lambda = 1.00000, score = -0.00000\n",
            "sigma = 10000.00000, lambda = 10.00000, score = -0.00000\n",
            "sigma = 10000.00000, lambda = 100.00000, score = -0.00000\n",
            "sigma = 10000.00000, lambda = 1000.00000, score = -0.00000\n",
            "sigma = 10000.00000, lambda = 10000.00000, score = -0.00000\n",
            "sigma = 10000.00000, lambda = 100000.00000, score = -0.00000\n",
            "sigma = 10000.00000, lambda = 1000000.00000, score = -0.00000\n",
            "sigma = 10000.00000, lambda = 10000000.00000, score = -0.00000\n",
            "sigma = 10000.00000, lambda = 100000000.00000, score = -0.00000\n",
            "sigma = 10000.00000, lambda = 1000000000.00000, score = -0.00000\n",
            "sigma = 100000.00000, lambda = 0.00100, score = -0.22164\n",
            "sigma = 100000.00000, lambda = 0.01000, score = -0.20748\n",
            "sigma = 100000.00000, lambda = 0.10000, score = -0.14660\n",
            "sigma = 100000.00000, lambda = 1.00000, score = -0.03993\n",
            "sigma = 100000.00000, lambda = 10.00000, score = -0.00481\n",
            "sigma = 100000.00000, lambda = 100.00000, score = -0.00049\n",
            "sigma = 100000.00000, lambda = 1000.00000, score = -0.00005\n",
            "sigma = 100000.00000, lambda = 10000.00000, score = -0.00000\n",
            "sigma = 100000.00000, lambda = 100000.00000, score = -0.00000\n",
            "sigma = 100000.00000, lambda = 1000000.00000, score = -0.00000\n",
            "sigma = 100000.00000, lambda = 10000000.00000, score = -0.00000\n",
            "sigma = 100000.00000, lambda = 100000000.00000, score = -0.00000\n",
            "sigma = 100000.00000, lambda = 1000000000.00000, score = -0.00000\n",
            "sigma = 1000000.00000, lambda = 0.00100, score = 0.09861\n",
            "sigma = 1000000.00000, lambda = 0.01000, score = -0.49240\n",
            "sigma = 1000000.00000, lambda = 0.10000, score = -0.49063\n",
            "sigma = 1000000.00000, lambda = 1.00000, score = -0.46104\n",
            "sigma = 1000000.00000, lambda = 10.00000, score = -0.20379\n",
            "sigma = 1000000.00000, lambda = 100.00000, score = -0.02888\n",
            "sigma = 1000000.00000, lambda = 1000.00000, score = -0.00301\n",
            "sigma = 1000000.00000, lambda = 10000.00000, score = -0.00030\n",
            "sigma = 1000000.00000, lambda = 100000.00000, score = -0.00003\n",
            "sigma = 1000000.00000, lambda = 1000000.00000, score = -0.00000\n",
            "sigma = 1000000.00000, lambda = 10000000.00000, score = -0.00000\n",
            "sigma = 1000000.00000, lambda = 100000000.00000, score = -0.00000\n",
            "sigma = 1000000.00000, lambda = 1000000000.00000, score = -0.00000\n",
            "sigma = 10000000.00000, lambda = 0.00100, score = -0.50000\n",
            "sigma = 10000000.00000, lambda = 0.01000, score = -0.50000\n",
            "sigma = 10000000.00000, lambda = 0.10000, score = -0.49980\n",
            "sigma = 10000000.00000, lambda = 1.00000, score = -0.48596\n",
            "sigma = 10000000.00000, lambda = 10.00000, score = -0.27685\n",
            "sigma = 10000000.00000, lambda = 100.00000, score = -0.04622\n",
            "sigma = 10000000.00000, lambda = 1000.00000, score = -0.00493\n",
            "sigma = 10000000.00000, lambda = 10000.00000, score = -0.00050\n",
            "sigma = 10000000.00000, lambda = 100000.00000, score = -0.00005\n",
            "sigma = 10000000.00000, lambda = 1000000.00000, score = -0.00000\n",
            "sigma = 10000000.00000, lambda = 10000000.00000, score = -0.00000\n",
            "sigma = 10000000.00000, lambda = 100000000.00000, score = -0.00000\n",
            "sigma = 10000000.00000, lambda = 1000000000.00000, score = -0.00000\n",
            "sigma = 100000000.00000, lambda = 0.00100, score = -0.50000\n",
            "sigma = 100000000.00000, lambda = 0.01000, score = -0.50000\n",
            "sigma = 100000000.00000, lambda = 0.10000, score = -0.49981\n",
            "sigma = 100000000.00000, lambda = 1.00000, score = -0.48611\n",
            "sigma = 100000000.00000, lambda = 10.00000, score = -0.27777\n",
            "sigma = 100000000.00000, lambda = 100.00000, score = -0.04648\n",
            "sigma = 100000000.00000, lambda = 1000.00000, score = -0.00496\n",
            "sigma = 100000000.00000, lambda = 10000.00000, score = -0.00050\n",
            "sigma = 100000000.00000, lambda = 100000.00000, score = -0.00005\n",
            "sigma = 100000000.00000, lambda = 1000000.00000, score = -0.00000\n",
            "sigma = 100000000.00000, lambda = 10000000.00000, score = -0.00000\n",
            "sigma = 100000000.00000, lambda = 100000000.00000, score = -0.00000\n",
            "sigma = 100000000.00000, lambda = 1000000000.00000, score = -0.00000\n",
            "sigma = 1000000000.00000, lambda = 0.00100, score = -0.50000\n",
            "sigma = 1000000000.00000, lambda = 0.01000, score = -0.50000\n",
            "sigma = 1000000000.00000, lambda = 0.10000, score = -0.49981\n",
            "sigma = 1000000000.00000, lambda = 1.00000, score = -0.48611\n",
            "sigma = 1000000000.00000, lambda = 10.00000, score = -0.27778\n",
            "sigma = 1000000000.00000, lambda = 100.00000, score = -0.04649\n",
            "sigma = 1000000000.00000, lambda = 1000.00000, score = -0.00496\n",
            "sigma = 1000000000.00000, lambda = 10000.00000, score = -0.00050\n",
            "sigma = 1000000000.00000, lambda = 100000.00000, score = -0.00005\n",
            "sigma = 1000000000.00000, lambda = 1000000.00000, score = -0.00000\n",
            "sigma = 1000000000.00000, lambda = 10000000.00000, score = -0.00000\n",
            "sigma = 1000000000.00000, lambda = 100000000.00000, score = -0.00000\n",
            "sigma = 1000000000.00000, lambda = 1000000000.00000, score = -0.00000\n",
            "Found optimal sigma = 100000000.000, lambda = 0.001.\n",
            "Optimizing theta...\n",
            "Approximate alpha-relative PE-divergence = 0.37\n",
            "Approximate alpha-relative KL-divergence = -0.00\n",
            "RuLSIF completed.\n"
          ],
          "name": "stdout"
        }
      ]
    },
    {
      "cell_type": "code",
      "metadata": {
        "id": "jwBYMByPNYk0",
        "colab_type": "code",
        "outputId": "e9f39fc6-0db0-44f7-d0a3-cc3d5653e214",
        "colab": {
          "base_uri": "https://localhost:8080/",
          "height": 1000
        }
      },
      "source": [
        "feature_num=len(Xtr.columns)\n",
        "\n",
        "cross_nb_dens,accuracy_nb_dens,score_nb_dens=naive_bayes_classifier(Xtr,ytr,Xts,yts,density)\n",
        "print(\"Learning accuracy of Naive Bayes classifier: \",accuracy_nb_dens)\n",
        "print(\"Learning score of Naive Bayes classifier: \",score_nb_dens)\n",
        "cross_nc_dens,accuracy_nc_dens,score_nc_dens=neural_classifier(Xtr,ytr,Xts,yts,density)\n",
        "print(\"Learning accuracy of Neural Network classifier: \",accuracy_nc_dens)\n",
        "print(\"Learning score of Neural Network classifier: \",score_nc_dens)"
      ],
      "execution_count": 35,
      "outputs": [
        {
          "output_type": "stream",
          "text": [
            "/usr/local/lib/python3.6/dist-packages/ipykernel_launcher.py:3: FutureWarning: elementwise comparison failed; returning scalar instead, but in the future will perform elementwise comparison\n",
            "  This is separate from the ipykernel package so we can avoid doing imports until\n"
          ],
          "name": "stderr"
        },
        {
          "output_type": "stream",
          "text": [
            "Learning accuracy of Naive Bayes classifier:  0.5809949924442206\n",
            "Learning score of Naive Bayes classifier:  0.5809949924442206\n"
          ],
          "name": "stdout"
        },
        {
          "output_type": "stream",
          "text": [
            "/usr/local/lib/python3.6/dist-packages/ipykernel_launcher.py:6: FutureWarning: elementwise comparison failed; returning scalar instead, but in the future will perform elementwise comparison\n",
            "  \n"
          ],
          "name": "stderr"
        },
        {
          "output_type": "stream",
          "text": [
            "Train on 134995 samples, validate on 33749 samples\n",
            "Epoch 1/2\n",
            "134995/134995 [==============================] - 16s 122us/step - loss: 2998.4612 - accuracy: 0.7064 - val_loss: 0.8754 - val_accuracy: 0.7150\n",
            "Epoch 2/2\n",
            "134995/134995 [==============================] - 16s 120us/step - loss: 0.8499 - accuracy: 0.7102 - val_loss: 0.5977 - val_accuracy: 0.7151\n",
            "Epoch 1/1\n",
            "30374/30374 [==============================] - 3s 83us/step - loss: 14832.8016 - accuracy: 0.6955\n",
            "3375/3375 [==============================] - 0s 36us/step\n",
            "Epoch 1/1\n",
            "30374/30374 [==============================] - 3s 84us/step - loss: 14037.5386 - accuracy: 0.7053\n",
            "3375/3375 [==============================] - 0s 34us/step\n",
            "Epoch 1/1\n",
            "30374/30374 [==============================] - 3s 87us/step - loss: 13095.9510 - accuracy: 0.6964\n",
            "3375/3375 [==============================] - 0s 37us/step\n",
            "Epoch 1/1\n",
            "30374/30374 [==============================] - 3s 96us/step - loss: 18613.4044 - accuracy: 0.6942\n",
            "3375/3375 [==============================] - 0s 36us/step\n",
            "Epoch 1/1\n",
            "30374/30374 [==============================] - 3s 95us/step - loss: 11062.0406 - accuracy: 0.7032\n",
            "3375/3375 [==============================] - 0s 37us/step\n",
            "Epoch 1/1\n",
            "30374/30374 [==============================] - 3s 97us/step - loss: 20201.6880 - accuracy: 0.6984\n",
            "3375/3375 [==============================] - 0s 37us/step\n",
            "Epoch 1/1\n",
            "30374/30374 [==============================] - 3s 96us/step - loss: 17479.0545 - accuracy: 0.6947\n",
            "3375/3375 [==============================] - 0s 36us/step\n",
            "Epoch 1/1\n",
            "30374/30374 [==============================] - 3s 98us/step - loss: 13367.6533 - accuracy: 0.6937\n",
            "3375/3375 [==============================] - 0s 35us/step\n",
            "Epoch 1/1\n",
            "30374/30374 [==============================] - 3s 95us/step - loss: 18887.1422 - accuracy: 0.6994\n",
            "3375/3375 [==============================] - 0s 35us/step\n",
            "Epoch 1/1\n",
            "30375/30375 [==============================] - 3s 95us/step - loss: 13150.8443 - accuracy: 0.6973\n",
            "3374/3374 [==============================] - 0s 35us/step\n",
            "Learning accuracy of Neural Network classifier:  0.7150730392011615\n",
            "Learning score of Neural Network classifier:  0.70828545\n"
          ],
          "name": "stdout"
        }
      ]
    },
    {
      "cell_type": "code",
      "metadata": {
        "id": "gSdp7XS2NeHA",
        "colab_type": "code",
        "outputId": "4f1e23be-12fd-4d4a-9578-c8e5e788868e",
        "colab": {
          "base_uri": "https://localhost:8080/",
          "height": 697
        }
      },
      "source": [
        "###########################   PCA ##############################################################\n",
        "feature_num=len(Xtr.columns)\n",
        "print(feature_num)\n",
        "Xtr_pca, Xts_pca = data_PCA(Xtr,Xts,feature_num)\n",
        "cross_nb_pca,accuracy_nb,score_nb=naive_bayes_classifier(Xtr_pca,ytr,Xts_pca,yts,'none')\n",
        "print(\"Learning accuracy of Naive Bayes classifier: \",accuracy_nb)\n",
        "print(\"Learning Score of Naive Bayes classifier: \",score_nb)\n",
        "cross_nc_pca,accuracy_nc,score_nc=neural_classifier(Xtr_pca,ytr,Xts_pca,yts,'none')\n",
        "print(\"Learning accuracy of Neural Network classifier: \",accuracy_nc)\n",
        "print(\"Learning accuracy of Neural Network classifier: \",score_nc)"
      ],
      "execution_count": 39,
      "outputs": [
        {
          "output_type": "stream",
          "text": [
            "120\n",
            "Learning accuracy of Naive Bayes classifier:  0.504281608343951\n",
            "Learning Score of Naive Bayes classifier:  0.504281608343951\n",
            "Train on 134995 samples, validate on 33749 samples\n",
            "Epoch 1/2\n",
            "134995/134995 [==============================] - 8s 57us/step - loss: 5061.8285 - accuracy: 0.7037 - val_loss: 964.1616 - val_accuracy: 0.7151\n",
            "Epoch 2/2\n",
            "134995/134995 [==============================] - 8s 59us/step - loss: 1085.1799 - accuracy: 0.7102 - val_loss: 1114.2074 - val_accuracy: 0.7151\n",
            "Epoch 1/1\n",
            "30374/30374 [==============================] - 2s 61us/step - loss: 16995.9446 - accuracy: 0.6900\n",
            "3375/3375 [==============================] - 0s 29us/step\n",
            "Epoch 1/1\n",
            "30374/30374 [==============================] - 2s 52us/step - loss: 18988.2562 - accuracy: 0.6978\n",
            "3375/3375 [==============================] - 0s 28us/step\n",
            "Epoch 1/1\n",
            "30374/30374 [==============================] - 2s 52us/step - loss: 15662.6995 - accuracy: 0.7009\n",
            "3375/3375 [==============================] - 0s 27us/step\n",
            "Epoch 1/1\n",
            "30374/30374 [==============================] - 2s 52us/step - loss: 16781.3150 - accuracy: 0.6919\n",
            "3375/3375 [==============================] - 0s 28us/step\n",
            "Epoch 1/1\n",
            "30374/30374 [==============================] - 2s 52us/step - loss: 15620.1110 - accuracy: 0.6915\n",
            "3375/3375 [==============================] - 0s 28us/step\n",
            "Epoch 1/1\n",
            "30374/30374 [==============================] - 2s 53us/step - loss: 20197.0535 - accuracy: 0.6935\n",
            "3375/3375 [==============================] - 0s 29us/step\n",
            "Epoch 1/1\n",
            "30374/30374 [==============================] - 2s 54us/step - loss: 15313.6729 - accuracy: 0.6942\n",
            "3375/3375 [==============================] - 0s 29us/step\n",
            "Epoch 1/1\n",
            "30374/30374 [==============================] - 2s 52us/step - loss: 14606.0773 - accuracy: 0.7000\n",
            "3375/3375 [==============================] - 0s 28us/step\n",
            "Epoch 1/1\n",
            "30374/30374 [==============================] - 2s 54us/step - loss: 15974.9327 - accuracy: 0.7002\n",
            "3375/3375 [==============================] - 0s 28us/step\n",
            "Epoch 1/1\n",
            "30375/30375 [==============================] - 2s 54us/step - loss: 14683.1665 - accuracy: 0.6860\n",
            "3374/3374 [==============================] - 0s 29us/step\n",
            "Learning accuracy of Neural Network classifier:  0.7150730392011615\n",
            "Learning accuracy of Neural Network classifier:  0.7069113\n"
          ],
          "name": "stdout"
        }
      ]
    },
    {
      "cell_type": "code",
      "metadata": {
        "id": "F5Ni1OyZCODt",
        "colab_type": "code",
        "outputId": "37745934-4cf5-45d5-9d31-022155fda69e",
        "colab": {
          "base_uri": "https://localhost:8080/",
          "height": 672
        }
      },
      "source": [
        "bin_array=[1,2,3,4,5,6,7,8,9,10]\n",
        "fig = plt.figure(figsize=(10,5))\n",
        "ax1 = fig.add_subplot(121) \n",
        "ax1.plot(bin_array,cross_nb,'--',color='red',label='normal') \n",
        "ax1.plot(bin_array,cross_nb_drop,'--',color='green',label='drop')\n",
        "ax1.plot(bin_array,cross_nb_dens,'--',color='yellow',label='density ratio')\n",
        "ax1.plot(bin_array,cross_nb_pca,'--',color='blue',label='pca')\n",
        "ax1.set_title('Naive Bayes learning score') \n",
        "ax1.legend()\n",
        "\n",
        "fig = plt.figure(figsize=(10,5))\n",
        "ax2 = fig.add_subplot(121) \n",
        "ax2.plot(bin_array,cross_nc,'--',color='red',label='normal') \n",
        "ax2.plot(bin_array,cross_nc_drop,'--',color='green',label='drop')\n",
        "ax2.plot(bin_array,cross_nc_dens,'--',color='yellow',label='density ratio')\n",
        "ax2.plot(bin_array,cross_nc_pca,'--',color='blue',label='pca')\n",
        "ax2.set_title('Neural Network learning score') \n",
        "ax2.legend()"
      ],
      "execution_count": 30,
      "outputs": [
        {
          "output_type": "execute_result",
          "data": {
            "text/plain": [
              "<matplotlib.legend.Legend at 0x7f7223e3a400>"
            ]
          },
          "metadata": {
            "tags": []
          },
          "execution_count": 30
        },
        {
          "output_type": "display_data",
          "data": {
            "image/png": "[encoded data removed]",
            "text/plain": [
              "<Figure size 720x360 with 1 Axes>"
            ]
          },
          "metadata": {
            "tags": [],
            "needs_background": "light"
          }
        },
        {
          "output_type": "display_data",
          "data": {
            "image/png": "[encoded data removed]",
            "text/plain": [
              "<Figure size 720x360 with 1 Axes>"
            ]
          },
          "metadata": {
            "tags": [],
            "needs_background": "light"
          }
        }
      ]
    },
    {
      "cell_type": "code",
      "metadata": {
        "id": "bGYG1XjRJWdK",
        "colab_type": "code",
        "outputId": "70971492-9a96-47b0-d0f8-674c9dbdd84e",
        "colab": {
          "base_uri": "https://localhost:8080/",
          "height": 1000
        }
      },
      "source": [
        "###########################   PCA ##############################################################\n",
        "feature_num=len(Xtr.columns)\n",
        "\n",
        "g_score=[]\n",
        "nn_score=[]\n",
        "dim_array=[2,20,50,80,100,120]\n",
        "for num in dim_array:\n",
        "  Xtr_pca, Xts_pca = data_PCA(Xtr,Xts,feature_num)\n",
        "  _,gb_acc,_=naive_bayes_classifier(Xtr_pca,ytr,Xts_pca,yts,'none')\n",
        "  _,nn_acc,_=neural_classifier(Xtr_pca,ytr,Xts_pca,yts,'none')\n",
        "  g_score.append(gb_acc)\n",
        "  nn_score.append(nn_acc)"
      ],
      "execution_count": 29,
      "outputs": [
        {
          "output_type": "stream",
          "text": [
            "Train on 134995 samples, validate on 33749 samples\n",
            "Epoch 1/2\n",
            "134995/134995 [==============================] - 8s 56us/step - loss: 4699.5575 - accuracy: 0.7031 - val_loss: 1250.4444 - val_accuracy: 0.7151\n",
            "Epoch 2/2\n",
            "134995/134995 [==============================] - 7s 55us/step - loss: 1373.4798 - accuracy: 0.7102 - val_loss: 1179.4296 - val_accuracy: 0.7151\n",
            "Epoch 1/1\n",
            "30374/30374 [==============================] - 2s 51us/step - loss: 16508.7012 - accuracy: 0.6806\n",
            "3375/3375 [==============================] - 0s 28us/step\n",
            "Epoch 1/1\n",
            "30374/30374 [==============================] - 2s 52us/step - loss: 15816.6605 - accuracy: 0.6931\n",
            "3375/3375 [==============================] - 0s 28us/step\n",
            "Epoch 1/1\n",
            "30374/30374 [==============================] - 2s 52us/step - loss: 16126.2618 - accuracy: 0.6915\n",
            "3375/3375 [==============================] - 0s 27us/step\n",
            "Epoch 1/1\n",
            "30374/30374 [==============================] - 2s 50us/step - loss: 15368.0162 - accuracy: 0.6986\n",
            "3375/3375 [==============================] - 0s 28us/step\n",
            "Epoch 1/1\n",
            "30374/30374 [==============================] - 2s 50us/step - loss: 16910.7708 - accuracy: 0.6936\n",
            "3375/3375 [==============================] - 0s 27us/step\n",
            "Epoch 1/1\n",
            "30374/30374 [==============================] - 2s 52us/step - loss: 16521.7063 - accuracy: 0.6882\n",
            "3375/3375 [==============================] - 0s 30us/step\n",
            "Epoch 1/1\n",
            "30374/30374 [==============================] - 2s 51us/step - loss: 17221.7533 - accuracy: 0.6834\n",
            "3375/3375 [==============================] - 0s 27us/step\n",
            "Epoch 1/1\n",
            "30374/30374 [==============================] - 2s 51us/step - loss: 17256.7020 - accuracy: 0.6938\n",
            "3375/3375 [==============================] - 0s 27us/step\n",
            "Epoch 1/1\n",
            "30374/30374 [==============================] - 1s 49us/step - loss: 15767.6344 - accuracy: 0.6865\n",
            "3375/3375 [==============================] - 0s 27us/step\n",
            "Epoch 1/1\n",
            "30375/30375 [==============================] - 2s 49us/step - loss: 14858.7010 - accuracy: 0.6884\n",
            "3374/3374 [==============================] - 0s 26us/step\n",
            "Train on 134995 samples, validate on 33749 samples\n",
            "Epoch 1/2\n",
            "134995/134995 [==============================] - 8s 59us/step - loss: 5096.4036 - accuracy: 0.7040 - val_loss: 1075.6571 - val_accuracy: 0.7151\n",
            "Epoch 2/2\n",
            "134995/134995 [==============================] - 7s 54us/step - loss: 1394.9997 - accuracy: 0.7102 - val_loss: 1116.3973 - val_accuracy: 0.7151\n",
            "Epoch 1/1\n",
            "30374/30374 [==============================] - 2s 51us/step - loss: 14237.9400 - accuracy: 0.6917\n",
            "3375/3375 [==============================] - 0s 28us/step\n",
            "Epoch 1/1\n",
            "30374/30374 [==============================] - 2s 52us/step - loss: 16025.0584 - accuracy: 0.6936\n",
            "3375/3375 [==============================] - 0s 28us/step\n",
            "Epoch 1/1\n",
            "30374/30374 [==============================] - 2s 51us/step - loss: 17801.1433 - accuracy: 0.6992\n",
            "3375/3375 [==============================] - 0s 27us/step\n",
            "Epoch 1/1\n",
            "30374/30374 [==============================] - 2s 51us/step - loss: 14153.0944 - accuracy: 0.6962\n",
            "3375/3375 [==============================] - 0s 27us/step\n",
            "Epoch 1/1\n",
            "30374/30374 [==============================] - 2s 51us/step - loss: 16155.6698 - accuracy: 0.6996\n",
            "3375/3375 [==============================] - 0s 27us/step\n",
            "Epoch 1/1\n",
            "30374/30374 [==============================] - 2s 52us/step - loss: 17533.6728 - accuracy: 0.6855\n",
            "3375/3375 [==============================] - 0s 27us/step\n",
            "Epoch 1/1\n",
            "30374/30374 [==============================] - 2s 52us/step - loss: 12822.5516 - accuracy: 0.6920\n",
            "3375/3375 [==============================] - 0s 29us/step\n",
            "Epoch 1/1\n",
            "30374/30374 [==============================] - 2s 51us/step - loss: 16216.0536 - accuracy: 0.6949\n",
            "3375/3375 [==============================] - 0s 27us/step\n",
            "Epoch 1/1\n",
            "30374/30374 [==============================] - 2s 50us/step - loss: 18213.1425 - accuracy: 0.7001\n",
            "3375/3375 [==============================] - 0s 26us/step\n",
            "Epoch 1/1\n",
            "30375/30375 [==============================] - 2s 50us/step - loss: 16315.8727 - accuracy: 0.6971\n",
            "3374/3374 [==============================] - 0s 27us/step\n",
            "Train on 134995 samples, validate on 33749 samples\n",
            "Epoch 1/2\n",
            "134995/134995 [==============================] - 7s 54us/step - loss: 4013.7889 - accuracy: 0.7053 - val_loss: 1578.4875 - val_accuracy: 0.7151\n",
            "Epoch 2/2\n",
            "134995/134995 [==============================] - 7s 54us/step - loss: 1320.5184 - accuracy: 0.7102 - val_loss: 1180.3792 - val_accuracy: 0.7151\n",
            "Epoch 1/1\n",
            "30374/30374 [==============================] - 2s 53us/step - loss: 17129.3115 - accuracy: 0.7007\n",
            "3375/3375 [==============================] - 0s 29us/step\n",
            "Epoch 1/1\n",
            "30374/30374 [==============================] - 2s 53us/step - loss: 18107.1016 - accuracy: 0.6867\n",
            "3375/3375 [==============================] - 0s 28us/step\n",
            "Epoch 1/1\n",
            "30374/30374 [==============================] - 2s 51us/step - loss: 13472.1604 - accuracy: 0.7024\n",
            "3375/3375 [==============================] - 0s 28us/step\n",
            "Epoch 1/1\n",
            "30374/30374 [==============================] - 2s 51us/step - loss: 15704.5911 - accuracy: 0.6927\n",
            "3375/3375 [==============================] - 0s 27us/step\n",
            "Epoch 1/1\n",
            "30374/30374 [==============================] - 2s 51us/step - loss: 15237.4059 - accuracy: 0.6922\n",
            "3375/3375 [==============================] - 0s 27us/step\n",
            "Epoch 1/1\n",
            "30374/30374 [==============================] - 2s 52us/step - loss: 15981.3485 - accuracy: 0.6998\n",
            "3375/3375 [==============================] - 0s 27us/step\n",
            "Epoch 1/1\n",
            "30374/30374 [==============================] - 2s 52us/step - loss: 17380.0561 - accuracy: 0.6907\n",
            "3375/3375 [==============================] - 0s 26us/step\n",
            "Epoch 1/1\n",
            "30374/30374 [==============================] - 2s 51us/step - loss: 16225.2642 - accuracy: 0.7010\n",
            "3375/3375 [==============================] - 0s 28us/step\n",
            "Epoch 1/1\n",
            "30374/30374 [==============================] - 2s 51us/step - loss: 15999.1925 - accuracy: 0.7091\n",
            "3375/3375 [==============================] - 0s 27us/step\n",
            "Epoch 1/1\n",
            "30375/30375 [==============================] - 2s 51us/step - loss: 16102.5226 - accuracy: 0.7005\n",
            "3374/3374 [==============================] - 0s 28us/step\n",
            "Train on 134995 samples, validate on 33749 samples\n",
            "Epoch 1/2\n",
            "134995/134995 [==============================] - 8s 56us/step - loss: 4693.2120 - accuracy: 0.7076 - val_loss: 903.6568 - val_accuracy: 0.7151\n",
            "Epoch 2/2\n",
            "134995/134995 [==============================] - 8s 59us/step - loss: 1134.6811 - accuracy: 0.7102 - val_loss: 1153.5803 - val_accuracy: 0.7151\n",
            "Epoch 1/1\n",
            "30374/30374 [==============================] - 2s 55us/step - loss: 18320.5743 - accuracy: 0.6913\n",
            "3375/3375 [==============================] - 0s 30us/step\n",
            "Epoch 1/1\n",
            "30374/30374 [==============================] - 2s 53us/step - loss: 18410.7723 - accuracy: 0.6942\n",
            "3375/3375 [==============================] - 0s 30us/step\n",
            "Epoch 1/1\n",
            "30374/30374 [==============================] - 2s 57us/step - loss: 16398.5171 - accuracy: 0.6922\n",
            "3375/3375 [==============================] - 0s 31us/step\n",
            "Epoch 1/1\n",
            "30374/30374 [==============================] - 2s 57us/step - loss: 13703.1973 - accuracy: 0.6913\n",
            "3375/3375 [==============================] - 0s 32us/step\n",
            "Epoch 1/1\n",
            "30374/30374 [==============================] - 2s 56us/step - loss: 14037.4168 - accuracy: 0.6993\n",
            "3375/3375 [==============================] - 0s 31us/step\n",
            "Epoch 1/1\n",
            "30374/30374 [==============================] - 2s 54us/step - loss: 14536.1975 - accuracy: 0.6952\n",
            "3375/3375 [==============================] - 0s 28us/step\n",
            "Epoch 1/1\n",
            "30374/30374 [==============================] - 2s 52us/step - loss: 16908.9141 - accuracy: 0.6863\n",
            "3375/3375 [==============================] - 0s 28us/step\n",
            "Epoch 1/1\n",
            "30374/30374 [==============================] - 2s 51us/step - loss: 14621.0536 - accuracy: 0.6872\n",
            "3375/3375 [==============================] - 0s 29us/step\n",
            "Epoch 1/1\n",
            "30374/30374 [==============================] - 2s 52us/step - loss: 17741.2501 - accuracy: 0.6938\n",
            "3375/3375 [==============================] - 0s 28us/step\n",
            "Epoch 1/1\n",
            "30375/30375 [==============================] - 2s 52us/step - loss: 16185.9361 - accuracy: 0.7002\n",
            "3374/3374 [==============================] - 0s 27us/step\n",
            "Train on 134995 samples, validate on 33749 samples\n",
            "Epoch 1/2\n",
            "134995/134995 [==============================] - 8s 56us/step - loss: 4723.0522 - accuracy: 0.7054 - val_loss: 1302.8231 - val_accuracy: 0.7151\n",
            "Epoch 2/2\n",
            "134995/134995 [==============================] - 7s 55us/step - loss: 1314.2285 - accuracy: 0.7102 - val_loss: 1252.4982 - val_accuracy: 0.7151\n",
            "Epoch 1/1\n",
            "30374/30374 [==============================] - 2s 50us/step - loss: 15354.7545 - accuracy: 0.7004\n",
            "3375/3375 [==============================] - 0s 27us/step\n",
            "Epoch 1/1\n",
            "30374/30374 [==============================] - 2s 51us/step - loss: 15187.8352 - accuracy: 0.7039\n",
            "3375/3375 [==============================] - 0s 27us/step\n",
            "Epoch 1/1\n",
            "30374/30374 [==============================] - 2s 51us/step - loss: 14884.0476 - accuracy: 0.6953\n",
            "3375/3375 [==============================] - 0s 27us/step\n",
            "Epoch 1/1\n",
            "30374/30374 [==============================] - 2s 52us/step - loss: 18400.8390 - accuracy: 0.6864\n",
            "3375/3375 [==============================] - 0s 27us/step\n",
            "Epoch 1/1\n",
            "30374/30374 [==============================] - 2s 52us/step - loss: 15538.2122 - accuracy: 0.6980\n",
            "3375/3375 [==============================] - 0s 28us/step\n",
            "Epoch 1/1\n",
            "30374/30374 [==============================] - 2s 53us/step - loss: 17324.1094 - accuracy: 0.6897\n",
            "3375/3375 [==============================] - 0s 28us/step\n",
            "Epoch 1/1\n",
            "30374/30374 [==============================] - 2s 51us/step - loss: 12231.5919 - accuracy: 0.6960\n",
            "3375/3375 [==============================] - 0s 27us/step\n",
            "Epoch 1/1\n",
            "30374/30374 [==============================] - 2s 52us/step - loss: 14686.8997 - accuracy: 0.7025\n",
            "3375/3375 [==============================] - 0s 27us/step\n",
            "Epoch 1/1\n",
            "30374/30374 [==============================] - 2s 52us/step - loss: 16283.0068 - accuracy: 0.6977\n",
            "3375/3375 [==============================] - 0s 28us/step\n",
            "Epoch 1/1\n",
            "30375/30375 [==============================] - 2s 52us/step - loss: 16436.9641 - accuracy: 0.6655\n",
            "3374/3374 [==============================] - 0s 27us/step\n",
            "Train on 134995 samples, validate on 33749 samples\n",
            "Epoch 1/2\n",
            "134995/134995 [==============================] - 8s 58us/step - loss: 4511.8308 - accuracy: 0.7065 - val_loss: 1202.6856 - val_accuracy: 0.7151\n",
            "Epoch 2/2\n",
            "134995/134995 [==============================] - 7s 54us/step - loss: 1262.0216 - accuracy: 0.7102 - val_loss: 911.4708 - val_accuracy: 0.7151\n",
            "Epoch 1/1\n",
            "30374/30374 [==============================] - 2s 52us/step - loss: 17400.4691 - accuracy: 0.6891\n",
            "3375/3375 [==============================] - 0s 27us/step\n",
            "Epoch 1/1\n",
            "30374/30374 [==============================] - 2s 50us/step - loss: 16427.0158 - accuracy: 0.6926\n",
            "3375/3375 [==============================] - 0s 27us/step\n",
            "Epoch 1/1\n",
            "30374/30374 [==============================] - 2s 52us/step - loss: 14990.2202 - accuracy: 0.6928\n",
            "3375/3375 [==============================] - 0s 27us/step\n",
            "Epoch 1/1\n",
            "30374/30374 [==============================] - 2s 52us/step - loss: 15988.7520 - accuracy: 0.6895\n",
            "3375/3375 [==============================] - 0s 27us/step\n",
            "Epoch 1/1\n",
            "30374/30374 [==============================] - 2s 50us/step - loss: 15239.7837 - accuracy: 0.6948\n",
            "3375/3375 [==============================] - 0s 27us/step\n",
            "Epoch 1/1\n",
            "30374/30374 [==============================] - 2s 51us/step - loss: 19097.1531 - accuracy: 0.6938\n",
            "3375/3375 [==============================] - 0s 27us/step\n",
            "Epoch 1/1\n",
            "30374/30374 [==============================] - 2s 49us/step - loss: 15488.4868 - accuracy: 0.6907\n",
            "3375/3375 [==============================] - 0s 26us/step\n",
            "Epoch 1/1\n",
            "30374/30374 [==============================] - 2s 51us/step - loss: 16579.1799 - accuracy: 0.6969\n",
            "3375/3375 [==============================] - 0s 27us/step\n",
            "Epoch 1/1\n",
            "30374/30374 [==============================] - 2s 51us/step - loss: 15086.9140 - accuracy: 0.6932\n",
            "3375/3375 [==============================] - 0s 28us/step\n",
            "Epoch 1/1\n",
            "30375/30375 [==============================] - 2s 52us/step - loss: 15992.8964 - accuracy: 0.6929\n",
            "3374/3374 [==============================] - 0s 29us/step\n"
          ],
          "name": "stdout"
        }
      ]
    },
    {
      "cell_type": "code",
      "metadata": {
        "id": "7u8v_rQyPaMG",
        "colab_type": "code",
        "outputId": "fda7bc91-006b-4d52-d395-989b4b8816ea",
        "colab": {
          "base_uri": "https://localhost:8080/",
          "height": 355
        }
      },
      "source": [
        "################## PCA dimension effect #######################\n",
        "fig = plt.figure(figsize=(10,5))\n",
        "ax1 = fig.add_subplot(121) \n",
        "ax1.plot(dim_array,g_score,'--',color='yellow',label='Naive Baye')\n",
        "ax1.plot(dim_array,nn_score,'--',color='blue',label='Neural Network')\n",
        "ax1.set_title('learning score Vs dimension') \n",
        "ax1.legend()"
      ],
      "execution_count": 0,
      "outputs": [
        {
          "output_type": "execute_result",
          "data": {
            "text/plain": [
              "<matplotlib.legend.Legend at 0x7f74c9d52eb8>"
            ]
          },
          "metadata": {
            "tags": []
          },
          "execution_count": 113
        },
        {
          "output_type": "display_data",
          "data": {
            "image/png": "[encoded data removed]",
            "text/plain": [
              "<Figure size 720x360 with 1 Axes>"
            ]
          },
          "metadata": {
            "tags": [],
            "needs_background": "light"
          }
        }
      ]
    },
    {
      "cell_type": "markdown",
      "metadata": {
        "id": "IEZRwfslA9q9",
        "colab_type": "text"
      },
      "source": [
        ""
      ]
    }
  ]
}